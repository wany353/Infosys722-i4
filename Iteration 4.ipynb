{
 "cells": [
  {
   "cell_type": "markdown",
   "id": "4b3a4078",
   "metadata": {},
   "source": [
    "# Iteration 4"
   ]
  },
  {
   "cell_type": "code",
   "execution_count": 1,
   "id": "2e054284",
   "metadata": {},
   "outputs": [
    {
     "name": "stderr",
     "output_type": "stream",
     "text": [
      "WARNING: An illegal reflective access operation has occurred\n",
      "WARNING: Illegal reflective access by org.apache.spark.unsafe.Platform (file:/home/ubuntu/spark-3.2.1-bin-hadoop2.7/jars/spark-unsafe_2.12-3.2.1.jar) to constructor java.nio.DirectByteBuffer(long,int)\n",
      "WARNING: Please consider reporting this to the maintainers of org.apache.spark.unsafe.Platform\n",
      "WARNING: Use --illegal-access=warn to enable warnings of further illegal reflective access operations\n",
      "WARNING: All illegal access operations will be denied in a future release\n",
      "Using Spark's default log4j profile: org/apache/spark/log4j-defaults.properties\n",
      "Setting default log level to \"WARN\".\n",
      "To adjust logging level use sc.setLogLevel(newLevel). For SparkR, use setLogLevel(newLevel).\n",
      "24/05/15 06:11:00 WARN NativeCodeLoader: Unable to load native-hadoop library for your platform... using builtin-java classes where applicable\n"
     ]
    }
   ],
   "source": [
    "# Must be included at the beginning of each new notebook. Remember to change the app name.\n",
    "import findspark\n",
    "findspark.init('/home/ubuntu/spark-3.2.1-bin-hadoop2.7')\n",
    "import pyspark\n",
    "from pyspark.sql import SparkSession\n",
    "spark = SparkSession.builder.appName('basics').getOrCreate()"
   ]
  },
  {
   "cell_type": "code",
   "execution_count": 20,
   "id": "c8e1420d",
   "metadata": {},
   "outputs": [
    {
     "name": "stderr",
     "output_type": "stream",
     "text": [
      "                                                                                \r"
     ]
    }
   ],
   "source": [
    "# load the data\n",
    "df = spark.read.csv('./suicide/suicide_rates_1990-2022.csv', inferSchema=True, header=True)"
   ]
  },
  {
   "cell_type": "code",
   "execution_count": 28,
   "id": "1ccdb0e9",
   "metadata": {},
   "outputs": [
    {
     "name": "stdout",
     "output_type": "stream",
     "text": [
      "root\n",
      " |-- RegionCode: string (nullable = true)\n",
      " |-- RegionName: string (nullable = true)\n",
      " |-- CountryCode: string (nullable = true)\n",
      " |-- CountryName: string (nullable = true)\n",
      " |-- Year: integer (nullable = true)\n",
      " |-- Sex: string (nullable = true)\n",
      " |-- AgeGroup: string (nullable = true)\n",
      " |-- Generation: string (nullable = true)\n",
      " |-- SuicideCount: integer (nullable = true)\n",
      " |-- CauseSpecificDeathPercentage: double (nullable = true)\n",
      " |-- DeathRatePer100K: double (nullable = true)\n",
      " |-- Population: integer (nullable = true)\n",
      " |-- GDP: double (nullable = true)\n",
      " |-- GDPPerCapita: double (nullable = true)\n",
      " |-- GrossNationalIncome: double (nullable = true)\n",
      " |-- GNIPerCapita: integer (nullable = true)\n",
      " |-- InflationRate: double (nullable = true)\n",
      " |-- EmploymentPopulationRatio: double (nullable = true)\n",
      "\n"
     ]
    }
   ],
   "source": [
    "df.columns\n",
    "df.printSchema()"
   ]
  },
  {
   "cell_type": "markdown",
   "id": "5d3193d3",
   "metadata": {},
   "source": [
    "## Data Understanding\n",
    "\n",
    "### Data Visualization"
   ]
  },
  {
   "cell_type": "code",
   "execution_count": 29,
   "id": "a5aa95a3",
   "metadata": {},
   "outputs": [
    {
     "name": "stderr",
     "output_type": "stream",
     "text": [
      "                                                                                \r"
     ]
    },
    {
     "data": {
      "image/png": "[encoded data removed]",
      "text/plain": [
       "<Figure size 432x288 with 1 Axes>"
      ]
     },
     "metadata": {
      "needs_background": "light"
     },
     "output_type": "display_data"
    }
   ],
   "source": [
    "import numpy as np\n",
    "import matplotlib.pyplot as plt\n",
    "\n",
    "sexArr = np.array(df.select('Sex').collect())\n",
    "plt.hist(sexArr)\n",
    "plt.show()"
   ]
  },
  {
   "cell_type": "code",
   "execution_count": 38,
   "id": "0c41f349",
   "metadata": {},
   "outputs": [
    {
     "data": {
      "image/png": "[encoded data removed]",
      "text/plain": [
       "<Figure size 432x288 with 1 Axes>"
      ]
     },
     "metadata": {
      "needs_background": "light"
     },
     "output_type": "display_data"
    }
   ],
   "source": [
    "ageArr = np.array(df.select('AgeGroup').collect())\n",
    "plt.hist(ageArr)\n",
    "plt.show()"
   ]
  },
  {
   "cell_type": "code",
   "execution_count": null,
   "id": "f8f65f96",
   "metadata": {},
   "outputs": [],
   "source": []
  }
 ],
 "metadata": {
  "kernelspec": {
   "display_name": "Python 3 (ipykernel)",
   "language": "python",
   "name": "python3"
  },
  "language_info": {
   "codemirror_mode": {
    "name": "ipython",
    "version": 3
   },
   "file_extension": ".py",
   "mimetype": "text/x-python",
   "name": "python",
   "nbconvert_exporter": "python",
   "pygments_lexer": "ipython3",
   "version": "3.10.4"
  }
 },
 "nbformat": 4,
 "nbformat_minor": 5
}
