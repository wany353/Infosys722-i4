{
 "cells": [
  {
   "cell_type": "markdown",
   "id": "4b3a4078",
   "metadata": {},
   "source": [
    "# Iteration 4"
   ]
  },
  {
   "cell_type": "code",
   "execution_count": 1,
   "id": "2e054284",
   "metadata": {},
   "outputs": [],
   "source": [
    "# Must be included at the beginning of each new notebook. Remember to change the app name.\n",
    "import findspark\n",
    "findspark.init('/home/ubuntu/spark-3.2.1-bin-hadoop2.7')\n",
    "import pyspark\n",
    "from pyspark.sql import SparkSession\n",
    "from pyspark.sql.functions import avg, stddev, col, randn, when, lit,sum, mean,row_number, rand, monotonically_increasing_id\n",
    "\n",
    "from pyspark.sql.window import Window\n",
    "spark = SparkSession.builder.appName('Iteration4').getOrCreate()"
   ]
  },
  {
   "cell_type": "code",
   "execution_count": 2,
   "id": "c8e1420d",
   "metadata": {},
   "outputs": [
    {
     "name": "stderr",
     "output_type": "stream",
     "text": [
      "                                                                                \r"
     ]
    }
   ],
   "source": [
    "# load the data\n",
    "df = spark.read.csv('./suicide/suicide_rates_1990-2022.csv', inferSchema=True, header=True)"
   ]
  },
  {
   "cell_type": "code",
   "execution_count": null,
   "id": "1ccdb0e9",
   "metadata": {},
   "outputs": [],
   "source": []
  },
  {
   "cell_type": "markdown",
   "id": "5d3193d3",
   "metadata": {},
   "source": [
    "# 2.Data Understanding\n",
    "\n",
    "## 2.3 Data Exploration"
   ]
  },
  {
   "cell_type": "code",
   "execution_count": null,
   "id": "758293ad",
   "metadata": {},
   "outputs": [],
   "source": [
    "# describe data\n",
    "df.printSchema()\n",
    "print('Index:',df.count())\n",
    "print('Data columns:',len(df.columns))"
   ]
  },
  {
   "cell_type": "code",
   "execution_count": 3,
   "id": "a5aa95a3",
   "metadata": {},
   "outputs": [],
   "source": [
    "import numpy as np\n",
    "import matplotlib.pyplot as plt\n",
    "import pandas as pd"
   ]
  },
  {
   "cell_type": "code",
   "execution_count": null,
   "id": "6eb17b53",
   "metadata": {},
   "outputs": [],
   "source": [
    "# caculate the sum of SuicideCount with same AgeGroup\n",
    "gdp = df.groupBy(\"GDPPerCapita\").agg(sum(\"SuicideCount\").alias(\"Total_SuicideCount\"))\n",
    "\n",
    "# trans to Pandas DataFrame\n",
    "pandas_df = gdp.toPandas()\n",
    "pandas_df = pandas_df.sort_values(by=\"GDPPerCapita\")\n",
    "\n",
    "plt.figure(figsize=(10, 6))\n",
    "plt.plot(pandas_df[\"GDPPerCapita\"], pandas_df[\"Total_SuicideCount\"], color='skyblue')\n",
    "plt.xlabel('GDPPerCapita')\n",
    "plt.ylabel('Total SuicideCount')\n",
    "plt.title('Total SuicideCount by GDPPerCapita')\n",
    "plt.show()"
   ]
  },
  {
   "cell_type": "code",
   "execution_count": null,
   "id": "0c41f349",
   "metadata": {},
   "outputs": [],
   "source": [
    "age_group_counts = df.groupBy(\"AgeGroup\").agg(count(\"*\").alias(\"count\"))\n",
    "\n",
    "# trans to Pandas DataFrame\n",
    "pandas_age_group_counts = age_group_counts.toPandas()\n",
    "pandas_age_group_counts = pandas_age_group_counts.sort_values(by=\"AgeGroup\")\n",
    "\n",
    "# plot histogram\n",
    "plt.figure(figsize=(12, 6))\n",
    "plt.bar(pandas_age_group_counts[\"AgeGroup\"], pandas_age_group_counts[\"count\"], color='skyblue')\n",
    "plt.xlabel('Age Group')\n",
    "plt.ylabel('Count')\n",
    "plt.title('Age Group Distribution')\n",
    "plt.xticks(rotation=45)\n",
    "plt.show()\n"
   ]
  },
  {
   "cell_type": "code",
   "execution_count": null,
   "id": "f8f65f96",
   "metadata": {},
   "outputs": [],
   "source": [
    "# caculate the sum of SuicideCount with same AgeGroup\n",
    "aggregated_df = df.groupBy(\"AgeGroup\").agg(sum(\"SuicideCount\").alias(\"Total_SuicideCount\"))\n",
    "\n",
    "# trans to Pandas DataFrame\n",
    "pandas_df = aggregated_df.toPandas()\n",
    "pandas_df = pandas_df.sort_values(by=\"AgeGroup\")\n",
    "\n",
    "plt.figure(figsize=(10, 6))\n",
    "plt.bar(pandas_df[\"AgeGroup\"], pandas_df[\"Total_SuicideCount\"], color='skyblue')\n",
    "plt.xlabel('AgeGroup')\n",
    "plt.ylabel('Total SuicideCount')\n",
    "plt.title('Total SuicideCount by AgeGroup')\n",
    "plt.show()"
   ]
  },
  {
   "cell_type": "code",
   "execution_count": null,
   "id": "dcb7815a",
   "metadata": {},
   "outputs": [],
   "source": [
    "# caculate the sum of SuicideCount with same AgeGroup\n",
    "year = df.groupBy(\"Year\").agg(sum(\"SuicideCount\").alias(\"Total_SuicideCount\"))\n",
    "\n",
    "# trans to Pandas DataFrame\n",
    "pandas_df = year.toPandas()\n",
    "pandas_df = pandas_df.sort_values(by=\"Year\")\n",
    "\n",
    "plt.figure(figsize=(10, 6))\n",
    "plt.plot(pandas_df[\"Year\"], pandas_df[\"Total_SuicideCount\"], color='skyblue')\n",
    "plt.grid(True, which='both', linestyle='--', linewidth=0.5)\n",
    "plt.xlabel('Year')\n",
    "plt.ylabel('Total SuicideCount')\n",
    "plt.title('Total SuicideCount by AgeGroup')\n",
    "plt.show()"
   ]
  },
  {
   "cell_type": "markdown",
   "id": "55eb4338",
   "metadata": {},
   "source": [
    "## 2.4 Verifying Data Quality"
   ]
  },
  {
   "cell_type": "code",
   "execution_count": null,
   "id": "240fa4f8",
   "metadata": {},
   "outputs": [],
   "source": [
    "df.show(10)"
   ]
  },
  {
   "cell_type": "code",
   "execution_count": null,
   "id": "759a2f6a",
   "metadata": {},
   "outputs": [],
   "source": [
    "# missing value\n",
    "null_counts = df.select([sum(col(column).isNull().cast(\"int\")).alias(column) for column in df.columns])\n",
    "null_counts.show()"
   ]
  },
  {
   "cell_type": "code",
   "execution_count": null,
   "id": "c68cd449",
   "metadata": {},
   "outputs": [],
   "source": [
    "round(df.dropna().count() / df.count() * 100, 2)"
   ]
  },
  {
   "cell_type": "markdown",
   "id": "f09f2868",
   "metadata": {},
   "source": [
    "# 3.Data Preparation\n",
    "## 3.1 Data selection"
   ]
  },
  {
   "cell_type": "code",
   "execution_count": 4,
   "id": "fb77c19b",
   "metadata": {},
   "outputs": [
    {
     "name": "stdout",
     "output_type": "stream",
     "text": [
      "+----------+-----------+----+----+-----------+------------+----------------+----------+-------------+------------+-------------------+------------+-------------+-------------------------+\n",
      "|RegionName|CountryName|Year| Sex|   AgeGroup|SuicideCount|DeathRatePer100K|Population|          GDP|GDPPerCapita|GrossNationalIncome|GNIPerCapita|InflationRate|EmploymentPopulationRatio|\n",
      "+----------+-----------+----+----+-----------+------------+----------------+----------+-------------+------------+-------------------+------------+-------------+-------------------------+\n",
      "|    Europe|    Albania|1992|Male| 0-14 years|           0|             0.0|   3247039|6.521749908E8| 200.8522198|      9.061842123E8|        1740|  226.0054213|                   45.315|\n",
      "|    Europe|    Albania|1992|Male| 0-14 years|           0|             0.0|   3247039|6.521749908E8| 200.8522198|      9.061842123E8|        1740|  226.0054213|                   45.315|\n",
      "|    Europe|    Albania|1992|Male| 0-14 years|           0|             0.0|   3247039|6.521749908E8| 200.8522198|      9.061842123E8|        1740|  226.0054213|                   45.315|\n",
      "|    Europe|    Albania|1992|Male| 0-14 years|           0|             0.0|   3247039|6.521749908E8| 200.8522198|      9.061842123E8|        1740|  226.0054213|                   45.315|\n",
      "|    Europe|    Albania|1992|Male|15-24 years|           5|      3.53107345|   3247039|6.521749908E8| 200.8522198|      9.061842123E8|        1740|  226.0054213|                   45.315|\n",
      "|    Europe|    Albania|1992|Male|15-24 years|           4|      3.27600328|   3247039|6.521749908E8| 200.8522198|      9.061842123E8|        1740|  226.0054213|                   45.315|\n",
      "|    Europe|    Albania|1992|Male|25-34 years|           3|      2.48756219|   3247039|6.521749908E8| 200.8522198|      9.061842123E8|        1740|  226.0054213|                   45.315|\n",
      "|    Europe|    Albania|1992|Male|25-34 years|           4|      3.20256205|   3247039|6.521749908E8| 200.8522198|      9.061842123E8|        1740|  226.0054213|                   45.315|\n",
      "|    Europe|    Albania|1992|Male|35-54 years|           1|      0.91575092|   3247039|6.521749908E8| 200.8522198|      9.061842123E8|        1740|  226.0054213|                   45.315|\n",
      "|    Europe|    Albania|1992|Male|35-54 years|           3|      3.42857143|   3247039|6.521749908E8| 200.8522198|      9.061842123E8|        1740|  226.0054213|                   45.315|\n",
      "+----------+-----------+----+----+-----------+------------+----------------+----------+-------------+------------+-------------------+------------+-------------+-------------------------+\n",
      "only showing top 10 rows\n",
      "\n"
     ]
    }
   ],
   "source": [
    "df_drop = df.drop('RegionCode', 'CountryCode', 'Generation', 'CauseSpecificDeathPercentage')\n",
    "\n",
    "df_drop.show(10)"
   ]
  },
  {
   "cell_type": "code",
   "execution_count": null,
   "id": "5f4cbe85",
   "metadata": {},
   "outputs": [],
   "source": [
    "df_drop.printSchema()"
   ]
  },
  {
   "cell_type": "markdown",
   "id": "144a7647",
   "metadata": {},
   "source": [
    "## 3.2 Clean Data"
   ]
  },
  {
   "cell_type": "markdown",
   "id": "5425bc4e",
   "metadata": {},
   "source": [
    "### Null value"
   ]
  },
  {
   "cell_type": "code",
   "execution_count": null,
   "id": "6496fe72",
   "metadata": {},
   "outputs": [],
   "source": [
    "null_counts = df_drop.select([sum(col(column).isNull().cast(\"int\")).alias(column) for column in df_drop.columns])\n",
    "null_counts.show()"
   ]
  },
  {
   "cell_type": "code",
   "execution_count": 5,
   "id": "668f88bf",
   "metadata": {},
   "outputs": [
    {
     "name": "stderr",
     "output_type": "stream",
     "text": [
      "                                                                                \r"
     ]
    }
   ],
   "source": [
    "# fill null value for SuicideCount and Population\n",
    "mean_values = df_drop.select(mean(\"SuicideCount\").alias(\"mean_SuicideCount\"), mean(\"Population\").alias(\"mean_Population\")).collect()[0]\n",
    "\n",
    "df_drop = df_drop.na.fill({\"SuicideCount\": mean_values[0], \"Population\": mean_values[1]})"
   ]
  },
  {
   "cell_type": "code",
   "execution_count": 6,
   "id": "94d7e400",
   "metadata": {},
   "outputs": [
    {
     "name": "stderr",
     "output_type": "stream",
     "text": [
      "24/05/23 07:34:03 WARN package: Truncated the string representation of a plan since it was too large. This behavior can be adjusted by setting 'spark.sql.debug.maxToStringFields'.\n",
      "                                                                                \r"
     ]
    }
   ],
   "source": [
    "# use the normal distribution to randomly fill\n",
    "# caculate mean and stand dev\n",
    "stats = df_drop.select(\n",
    "    [avg(c).alias(f\"mean_{c}\") for c in df_drop.columns] +\n",
    "    [stddev(c).alias(f\"stddev_{c}\") for c in df_drop.columns]\n",
    ").collect()[0]\n",
    "\n",
    "\n",
    "mean_stddev_dict = {col: (stats[f\"mean_{col}\"], stats[f\"stddev_{col}\"]) for col in df_drop.columns}\n",
    "\n",
    "# fill null value in each column\n",
    "for col_name in df_drop.columns:\n",
    "    mean = mean_stddev_dict[col_name][0]\n",
    "    stddev = mean_stddev_dict[col_name][1]\n",
    "    \n",
    "    # normal distribution\n",
    "    random_col = randn() * stddev + mean\n",
    "    df_drop = df_drop.withColumn(\n",
    "        col_name,\n",
    "        when(col(col_name).isNull(), random_col).otherwise(col(col_name))\n",
    "    )\n",
    "\n"
   ]
  },
  {
   "cell_type": "code",
   "execution_count": null,
   "id": "bdb4fc2c",
   "metadata": {},
   "outputs": [],
   "source": [
    "null_counts = df_drop.select([sum(col(column).isNull().cast(\"int\")).alias(column) for column in df_drop.columns])\n",
    "null_counts.show()"
   ]
  },
  {
   "cell_type": "markdown",
   "id": "362cf80b",
   "metadata": {},
   "source": [
    "### Extrem value"
   ]
  },
  {
   "cell_type": "code",
   "execution_count": null,
   "id": "da41c0fa",
   "metadata": {},
   "outputs": [],
   "source": [
    "df_drop.select('GDP').describe().show()"
   ]
  },
  {
   "cell_type": "code",
   "execution_count": null,
   "id": "9079288f",
   "metadata": {},
   "outputs": [],
   "source": [
    "df_drop.filter(df_drop['GDP']<0).count()"
   ]
  },
  {
   "cell_type": "code",
   "execution_count": 7,
   "id": "e2b563e3",
   "metadata": {},
   "outputs": [
    {
     "name": "stderr",
     "output_type": "stream",
     "text": [
      "\r",
      "[Stage 9:=============================>                             (1 + 1) / 2]\r"
     ]
    },
    {
     "name": "stdout",
     "output_type": "stream",
     "text": [
      "+-------+--------------------+\n",
      "|summary|                 GDP|\n",
      "+-------+--------------------+\n",
      "|  count|              115839|\n",
      "|   mean|5.279130417829601...|\n",
      "| stddev|1.646626698464828...|\n",
      "|    min|        2.19762963E8|\n",
      "|    max|          2.33151E13|\n",
      "+-------+--------------------+\n",
      "\n"
     ]
    },
    {
     "name": "stderr",
     "output_type": "stream",
     "text": [
      "\r",
      "                                                                                \r"
     ]
    }
   ],
   "source": [
    "df_drop = df_drop.filter(df_drop['GDP']>=0)\n",
    "\n",
    "# check again\n",
    "df_drop.select('GDP').describe().show()"
   ]
  },
  {
   "cell_type": "markdown",
   "id": "782aa778",
   "metadata": {},
   "source": [
    "## 3.3 Constructing/Deriving a New Feature and Data Integration"
   ]
  },
  {
   "cell_type": "code",
   "execution_count": 8,
   "id": "3082936c",
   "metadata": {},
   "outputs": [
    {
     "name": "stderr",
     "output_type": "stream",
     "text": [
      "[Stage 12:=============================>                            (1 + 1) / 2]\r"
     ]
    },
    {
     "name": "stdout",
     "output_type": "stream",
     "text": [
      "+--------------------+------+------+-----------+-----------+---------------+------------+-------------------+------------+-----------------+-------------------------+------------+------------------+\n",
      "|          RegionName|  Year|   Sex|   AgeGroup| Population|            GDP|GDPPerCapita|GrossNationalIncome|GNIPerCapita|    InflationRate|EmploymentPopulationRatio|SuicideCount|  DeathRatePer100K|\n",
      "+--------------------+------+------+-----------+-----------+---------------+------------+-------------------+------------+-----------------+-------------------------+------------+------------------+\n",
      "|              Europe|2008.0|  Male|    Unknown|  2947314.0|1.2881352894E10| 4370.539716|    1.1892990139E10|      8270.0|      3.320870904|                   46.243|         0.0| 18.34606233273754|\n",
      "|Central and South...|2010.0|Female|  75+ years|4.0788453E7|     4.23627E11| 10385.96443|         3.78241E11|     17450.0|28.99244671928664|                   55.549|        16.0|        3.21878483|\n",
      "|                Asia|1993.0|  Male|35-54 years|  3457349.0|  1.201312829E9| 347.4664633|      1.200546515E9|      1440.0|328.4753972977714|                   60.859|         3.0|        4.90196078|\n",
      "|                Asia|1994.0|  Male|35-54 years|  3373713.0|  1.315158637E9| 389.8252865|      1.311101988E9|      1580.0|      3373.759443|                   59.578|        31.0|        8.28396759|\n",
      "|                Asia|1995.0|Female|    Unknown|  3322782.0|  1.468317435E9| 441.8940018|      1.507765895E9|      1810.0|      175.9513255|                   59.147|         0.0|11.664834644750213|\n",
      "|              Europe|1995.0|  Male|  75+ years|  7948278.0|     2.41038E11| 30325.84958|         2.24071E11|     23610.0|      2.243366315|                   56.845|       184.0|128.46510160333332|\n",
      "|              Europe|2002.0|  Male|35-54 years|  8081957.0|     2.14395E11| 26527.59309|         2.02319E11|     31000.0|      1.810357878|                     56.1|       422.0|       35.30251326|\n",
      "|                Asia|2005.0|  Male|  75+ years|   901921.0|1.5968723404E10| 17705.23516|    1.4713723046E10|     43620.0|      2.586206897|                   67.149|       126.0|23.725858829869992|\n",
      "|North America and...|1999.0|Female|25-34 years|    73821.0|        7.662E8|  10379.1604|      7.174579908E8|     17490.0|      1.121287896|       60.684616343625336|         0.0|               0.0|\n",
      "|North America and...|2012.0|Female|35-54 years|    87674.0|  1.327107407E9| 15136.84111|      1.230193125E9|     21680.0|      3.376880443|        54.66449671107236|         0.0|               0.0|\n",
      "+--------------------+------+------+-----------+-----------+---------------+------------+-------------------+------------+-----------------+-------------------------+------------+------------------+\n",
      "only showing top 10 rows\n",
      "\n"
     ]
    },
    {
     "name": "stderr",
     "output_type": "stream",
     "text": [
      "\r",
      "                                                                                \r"
     ]
    }
   ],
   "source": [
    "aggregated_df = df_drop.groupBy(\"RegionName\", \"Year\", \"Sex\", \"AgeGroup\", \"Population\", \n",
    "                           \"GDP\", \"GDPPerCapita\", \"GrossNationalIncome\", \"GNIPerCapita\", \n",
    "                           \"InflationRate\", \"EmploymentPopulationRatio\").agg(\n",
    "    sum(\"SuicideCount\").alias(\"SuicideCount\"),\n",
    "    avg(\"DeathRatePer100K\").alias(\"DeathRatePer100K\")\n",
    ")\n",
    "aggregated_df.show(10)"
   ]
  },
  {
   "cell_type": "code",
   "execution_count": null,
   "id": "2bf95a14",
   "metadata": {},
   "outputs": [],
   "source": [
    "print('Index:',aggregated_df.count())\n",
    "null_counts = aggregated_df.select([sum(col(column).isNull().cast(\"int\")).alias(column) for column in aggregated_df.columns])\n",
    "null_counts.show()"
   ]
  },
  {
   "cell_type": "markdown",
   "id": "4dfae9ab",
   "metadata": {},
   "source": [
    "## 3.4.Data Integration"
   ]
  },
  {
   "cell_type": "code",
   "execution_count": 9,
   "id": "19e20728",
   "metadata": {},
   "outputs": [],
   "source": [
    "df1, df2 = aggregated_df.randomSplit([0.5, 0.5])"
   ]
  },
  {
   "cell_type": "code",
   "execution_count": null,
   "id": "c452d4d2",
   "metadata": {},
   "outputs": [],
   "source": [
    "print('Index of df1:',df1.count())\n",
    "print('Data columns of df1:',len(df1.columns))\n",
    "\n",
    "print('Index of df2:',df2.count())\n",
    "print('Data columns of df2:',len(df2.columns))"
   ]
  },
  {
   "cell_type": "code",
   "execution_count": 50,
   "id": "1b6a4a3a",
   "metadata": {},
   "outputs": [
    {
     "name": "stderr",
     "output_type": "stream",
     "text": [
      "                                                                                \r"
     ]
    },
    {
     "name": "stdout",
     "output_type": "stream",
     "text": [
      "+-------+----------+-----------------+-------+----------+--------------------+--------------------+------------------+--------------------+------------------+------------------+-------------------------+------------------+------------------+\n",
      "|summary|RegionName|             Year|    Sex|  AgeGroup|          Population|                 GDP|      GDPPerCapita| GrossNationalIncome|      GNIPerCapita|     InflationRate|EmploymentPopulationRatio|      SuicideCount|  DeathRatePer100K|\n",
      "+-------+----------+-----------------+-------+----------+--------------------+--------------------+------------------+--------------------+------------------+------------------+-------------------------+------------------+------------------+\n",
      "|  count|     53816|            53816|  53816|     53816|               53816|               53816|             53816|               53816|             53816|             53816|                    53816|             53816|             53816|\n",
      "|   mean|      null|2004.911494722759|   null|      null|2.1813752256206334E7|4.942890789432009E11|15698.256454183533|4.259525956033853E11|20700.138298594517| 20.10425744995091|       55.242671686481586|138.61840344878846|12.206724583962389|\n",
      "| stddev|      null|8.939479221703294|   null|      null| 3.983916446803114E7|1.483460318104365...|18000.511409439045|1.557057678627424...| 18044.45162796812|158.54026048470473|         8.33611023055793|    668.9254369533|20.233800765202584|\n",
      "|    min|    Africa|           1990.0| Female|0-14 years|             40542.0|        2.19762963E8|-44593.06258210446|-6.20292621663210...|-60135.71411527519|-663.6939426628611|        25.37370248576233|               0.0|-62.10811319018978|\n",
      "|    max|   Oceania|           2022.0|Unknown|   Unknown|        3.32031554E8|          2.33151E13|       133711.7944|          2.37053E13|          152630.0|       4734.914347|                   87.518|           22338.0|       429.1845494|\n",
      "+-------+----------+-----------------+-------+----------+--------------------+--------------------+------------------+--------------------+------------------+------------------+-------------------------+------------------+------------------+\n",
      "\n"
     ]
    },
    {
     "name": "stderr",
     "output_type": "stream",
     "text": [
      "[Stage 300:============================>                            (1 + 1) / 2]\r"
     ]
    },
    {
     "name": "stdout",
     "output_type": "stream",
     "text": [
      "+----------+----+---+--------+----------+---+------------+-------------------+------------+-------------+-------------------------+------------+----------------+\n",
      "|RegionName|Year|Sex|AgeGroup|Population|GDP|GDPPerCapita|GrossNationalIncome|GNIPerCapita|InflationRate|EmploymentPopulationRatio|SuicideCount|DeathRatePer100K|\n",
      "+----------+----+---+--------+----------+---+------------+-------------------+------------+-------------+-------------------------+------------+----------------+\n",
      "|         0|   0|  0|       0|         0|  0|           0|                  0|           0|            0|                        0|           0|               0|\n",
      "+----------+----+---+--------+----------+---+------------+-------------------+------------+-------------+-------------------------+------------+----------------+\n",
      "\n"
     ]
    },
    {
     "name": "stderr",
     "output_type": "stream",
     "text": [
      "\r",
      "[Stage 302:============================>                            (2 + 2) / 4]\r",
      "\r",
      "                                                                                \r"
     ]
    }
   ],
   "source": [
    "merged_df = df1.union(df2)\n",
    "\n",
    "merged_df.describe().show()\n",
    "\n",
    "null_counts = merged_df.select([sum(col(column).isNull().cast(\"int\")).alias(column) for column in merged_df.columns])\n",
    "null_counts.show()"
   ]
  },
  {
   "cell_type": "code",
   "execution_count": null,
   "id": "85697f7d",
   "metadata": {},
   "outputs": [],
   "source": [
    "merged_df.show(10)"
   ]
  },
  {
   "cell_type": "code",
   "execution_count": null,
   "id": "0ab84604",
   "metadata": {},
   "outputs": [],
   "source": [
    "merged_df.printSchema()\n",
    "\n",
    "merged_df = merged_df.withColumn(\"SuicideCount\", col(\"SuicideCount\").cast(\"int\"))\n",
    "# after modify\n",
    "merged_df.printSchema()"
   ]
  },
  {
   "cell_type": "code",
   "execution_count": null,
   "id": "485a04de",
   "metadata": {},
   "outputs": [],
   "source": [
    "merged_df.groupBy(\"Sex\").count().show()"
   ]
  },
  {
   "cell_type": "code",
   "execution_count": 51,
   "id": "642b37ee",
   "metadata": {},
   "outputs": [
    {
     "name": "stderr",
     "output_type": "stream",
     "text": [
      "                                                                                \r"
     ]
    }
   ],
   "source": [
    "df_with_id = merged_df.withColumn(\"ID\", monotonically_increasing_id())\n",
    "\n",
    "unknown_count = df_with_id.filter(df_with_id[\"Sex\"] == \"Unknown\").count()\n",
    "\n",
    "window_spec = Window.orderBy(\"ID\")\n",
    "df_with_index = df_with_id.withColumn(\"index\", row_number().over(window_spec))\n",
    "\n",
    "half_count = unknown_count // 2\n",
    "merged_df = df_with_index.withColumn(\n",
    "    \"Sex\",\n",
    "    when(\n",
    "        (col(\"Sex\") == \"Unknown\") & (col(\"index\") <= half_count),\n",
    "        \"Male\"\n",
    "    ).when(\n",
    "        (col(\"Sex\") == \"Unknown\") & (col(\"index\") > half_count),\n",
    "        \"Female\"\n",
    "    ).otherwise(col(\"Sex\"))\n",
    ").drop(\"ID\").drop(\"index\")\n"
   ]
  },
  {
   "cell_type": "code",
   "execution_count": null,
   "id": "40192867",
   "metadata": {},
   "outputs": [],
   "source": [
    "merged_df.groupBy(\"Sex\").count().show()"
   ]
  },
  {
   "cell_type": "code",
   "execution_count": null,
   "id": "14e8273e",
   "metadata": {},
   "outputs": [],
   "source": [
    "merged_df.printSchema()"
   ]
  },
  {
   "cell_type": "markdown",
   "id": "1e839ba8",
   "metadata": {},
   "source": [
    "# 4. Data Transformation\n"
   ]
  },
  {
   "cell_type": "code",
   "execution_count": 13,
   "id": "3a218c6a",
   "metadata": {},
   "outputs": [],
   "source": [
    "from pyspark.sql.functions import log1p\n",
    "import seaborn as sns\n",
    "import pandas as pd"
   ]
  },
  {
   "cell_type": "code",
   "execution_count": null,
   "id": "65104651",
   "metadata": {},
   "outputs": [],
   "source": [
    "# calculate SuicideCount correlation\n",
    "colum = ['Year', 'Population', \n",
    "    'GDP', 'GDPPerCapita', 'GrossNationalIncome', 'GNIPerCapita', \n",
    "    'InflationRate', 'EmploymentPopulationRatio']\n",
    "\n",
    "target_column = 'SuicideCount'\n",
    "correlations = {column: merged_df.stat.corr(column, target_column) for column in colum}\n",
    "\n",
    "\n",
    "sorted_correlations = pd.Series(correlations).sort_values(ascending=False)\n",
    "\n",
    "# result\n",
    "print(sorted_correlations)"
   ]
  },
  {
   "cell_type": "markdown",
   "id": "9d487ec6",
   "metadata": {},
   "source": [
    "## 4.2 Data Projection"
   ]
  },
  {
   "cell_type": "code",
   "execution_count": null,
   "id": "81ae836b",
   "metadata": {},
   "outputs": [],
   "source": [
    "population_data = merged_df.select(\"Population\").rdd.flatMap(lambda x: x).collect()\n",
    "\n",
    "# Population hist plot\n",
    "sns.histplot(population_data, bins=10, kde=True, color='green')\n",
    "plt.xlabel('Population')"
   ]
  },
  {
   "cell_type": "code",
   "execution_count": null,
   "id": "7464ce43",
   "metadata": {},
   "outputs": [],
   "source": [
    "sns.histplot(merged_df.select(\"GDP\").rdd.flatMap(lambda x: x).collect(), bins=10, kde=True, color='green')\n",
    "plt.xlabel('GDP')"
   ]
  },
  {
   "cell_type": "code",
   "execution_count": null,
   "id": "dd51e20e",
   "metadata": {},
   "outputs": [],
   "source": [
    "sns.histplot(merged_df.select(\"SuicideCount\").rdd.flatMap(lambda x: x).collect(), bins=10, kde=True, color='green')\n",
    "plt.xlabel('SuicideCount')"
   ]
  },
  {
   "cell_type": "code",
   "execution_count": null,
   "id": "4a2a8509",
   "metadata": {},
   "outputs": [],
   "source": [
    "sns.histplot(merged_df.select(\"GNIPerCapita\").rdd.flatMap(lambda x: x).collect(), bins=10, kde=True, color='green')\n",
    "plt.xlabel('GNIPerCapita')"
   ]
  },
  {
   "cell_type": "code",
   "execution_count": null,
   "id": "70dcfc8c",
   "metadata": {},
   "outputs": [],
   "source": [
    "sns.histplot(merged_df.select(\"GrossNationalIncome\").rdd.flatMap(lambda x: x).collect(), bins=10, kde=True, color='green')\n",
    "plt.xlabel('GrossNationalIncome')"
   ]
  },
  {
   "cell_type": "code",
   "execution_count": null,
   "id": "93855c98",
   "metadata": {},
   "outputs": [],
   "source": [
    "sns.histplot(merged_df.select(\"EmploymentPopulationRatio\").rdd.flatMap(lambda x: x).collect(), bins=10, kde=True, color='green')\n",
    "plt.xlabel('EmploymentPopulationRatio')"
   ]
  },
  {
   "cell_type": "code",
   "execution_count": null,
   "id": "01ead40f",
   "metadata": {},
   "outputs": [],
   "source": [
    "sns.histplot(merged_df.select(\"DeathRatePer100K\").rdd.flatMap(lambda x: x).collect(), bins=10, kde=True, color='green')\n",
    "plt.xlabel('DeathRatePer100K')"
   ]
  },
  {
   "cell_type": "code",
   "execution_count": null,
   "id": "9d27f881",
   "metadata": {},
   "outputs": [],
   "source": [
    "sns.histplot(merged_df.select(\"GDPPerCapita\").rdd.flatMap(lambda x: x).collect(), bins=10, kde=True, color='green')\n",
    "plt.xlabel('GDPPerCapita')"
   ]
  },
  {
   "cell_type": "code",
   "execution_count": null,
   "id": "6c121bf2",
   "metadata": {},
   "outputs": [],
   "source": [
    "sns.histplot(merged_df.select(\"InflationRate\").rdd.flatMap(lambda x: x).collect(), bins=10, kde=True, color='green')\n",
    "plt.xlabel('InflationRate')"
   ]
  },
  {
   "cell_type": "code",
   "execution_count": 14,
   "id": "f8f02dba",
   "metadata": {},
   "outputs": [],
   "source": [
    "columns_to_transform = ['Population', 'SuicideCount', 'GDP', 'DeathRatePer100K',\n",
    "                        'GrossNationalIncome', 'GNIPerCapita', 'EmploymentPopulationRatio', 'GDPPerCapita','InflationRate']\n",
    "\n",
    "for column in columns_to_transform:\n",
    "    merged_df = merged_df.withColumn(column, log1p(col(column)))\n",
    "\n"
   ]
  },
  {
   "cell_type": "code",
   "execution_count": null,
   "id": "be9dec4a",
   "metadata": {},
   "outputs": [],
   "source": [
    "for column in columns_to_transform:\n",
    "    plt.figure()\n",
    "    column_data = merged_df.select(column).rdd.flatMap(lambda x: x).collect()\n",
    "    # plot histogram\n",
    "    sns.histplot(column_data, bins=10, kde=True, color='green')\n",
    "    plt.title(f'Histogram of {column}')\n",
    "    plt.xlabel(f'log_{column}')\n",
    "    plt.show()"
   ]
  },
  {
   "cell_type": "code",
   "execution_count": null,
   "id": "ee95dbf5",
   "metadata": {},
   "outputs": [],
   "source": [
    "merged_df.printSchema()"
   ]
  },
  {
   "cell_type": "markdown",
   "id": "7c2d46e9",
   "metadata": {},
   "source": [
    "# 6.Data-Mining Algorithm(s) Selection\n",
    "## 6.3. Build/Select Model with Algorithm/Model Parameter(s)"
   ]
  },
  {
   "cell_type": "code",
   "execution_count": 15,
   "id": "9a5665bd",
   "metadata": {},
   "outputs": [],
   "source": [
    "from pyspark.ml.linalg import Vectors\n",
    "from pyspark.ml.feature import VectorAssembler\n",
    "from pyspark.ml.feature import StringIndexer\n",
    "from pyspark.ml.feature import StringIndexer, OneHotEncoder\n",
    "from pyspark.ml import Pipeline"
   ]
  },
  {
   "cell_type": "code",
   "execution_count": null,
   "id": "634719e3",
   "metadata": {},
   "outputs": [],
   "source": [
    "null_counts = merged_df.select([sum(col(column).isNull().cast(\"int\")).alias(column) for column in merged_df.columns])\n",
    "null_counts.show()"
   ]
  },
  {
   "cell_type": "code",
   "execution_count": 16,
   "id": "6c43b7e9",
   "metadata": {},
   "outputs": [
    {
     "name": "stderr",
     "output_type": "stream",
     "text": [
      "24/05/23 07:35:54 WARN WindowExec: No Partition Defined for Window operation! Moving all data to a single partition, this can cause serious performance degradation.\n",
      "24/05/23 07:35:56 WARN WindowExec: No Partition Defined for Window operation! Moving all data to a single partition, this can cause serious performance degradation.\n",
      "24/05/23 07:35:56 WARN WindowExec: No Partition Defined for Window operation! Moving all data to a single partition, this can cause serious performance degradation.\n",
      "24/05/23 07:35:57 WARN WindowExec: No Partition Defined for Window operation! Moving all data to a single partition, this can cause serious performance degradation.\n"
     ]
    },
    {
     "name": "stdout",
     "output_type": "stream",
     "text": [
      "+----------+----+---+--------+----------+---+------------+-------------------+------------+-------------+-------------------------+------------+----------------+\n",
      "|RegionName|Year|Sex|AgeGroup|Population|GDP|GDPPerCapita|GrossNationalIncome|GNIPerCapita|InflationRate|EmploymentPopulationRatio|SuicideCount|DeathRatePer100K|\n",
      "+----------+----+---+--------+----------+---+------------+-------------------+------------+-------------+-------------------------+------------+----------------+\n",
      "|         0|   0|  0|       0|         0|  0|           0|                  0|           0|            0|                        0|           0|               0|\n",
      "+----------+----+---+--------+----------+---+------------+-------------------+------------+-------------+-------------------------+------------+----------------+\n",
      "\n"
     ]
    },
    {
     "name": "stderr",
     "output_type": "stream",
     "text": [
      "\r",
      "[Stage 38:>                                                         (0 + 1) / 1]\r",
      "\r",
      "                                                                                \r"
     ]
    }
   ],
   "source": [
    "merged_df = merged_df.na.drop()\n",
    "null_counts = merged_df.select([sum(col(column).isNull().cast(\"int\")).alias(column) for column in merged_df.columns])\n",
    "null_counts.show()"
   ]
  },
  {
   "cell_type": "code",
   "execution_count": 33,
   "id": "458c68d1",
   "metadata": {},
   "outputs": [
    {
     "data": {
      "text/plain": [
       "['RegionName',\n",
       " 'Year',\n",
       " 'Sex',\n",
       " 'AgeGroup',\n",
       " 'Population',\n",
       " 'GDP',\n",
       " 'GDPPerCapita',\n",
       " 'GrossNationalIncome',\n",
       " 'GNIPerCapita',\n",
       " 'InflationRate',\n",
       " 'EmploymentPopulationRatio',\n",
       " 'SuicideCount',\n",
       " 'DeathRatePer100K']"
      ]
     },
     "execution_count": 33,
     "metadata": {},
     "output_type": "execute_result"
    }
   ],
   "source": [
    "merged_df.columns"
   ]
  },
  {
   "cell_type": "code",
   "execution_count": 34,
   "id": "89e302e5",
   "metadata": {},
   "outputs": [
    {
     "name": "stderr",
     "output_type": "stream",
     "text": [
      "24/05/23 08:10:31 WARN WindowExec: No Partition Defined for Window operation! Moving all data to a single partition, this can cause serious performance degradation.\n",
      "24/05/23 08:10:32 WARN WindowExec: No Partition Defined for Window operation! Moving all data to a single partition, this can cause serious performance degradation.\n",
      "24/05/23 08:10:32 WARN WindowExec: No Partition Defined for Window operation! Moving all data to a single partition, this can cause serious performance degradation.\n",
      "24/05/23 08:10:33 WARN WindowExec: No Partition Defined for Window operation! Moving all data to a single partition, this can cause serious performance degradation.\n",
      "24/05/23 08:10:34 WARN WindowExec: No Partition Defined for Window operation! Moving all data to a single partition, this can cause serious performance degradation.\n",
      "24/05/23 08:10:35 WARN WindowExec: No Partition Defined for Window operation! Moving all data to a single partition, this can cause serious performance degradation.\n",
      "24/05/23 08:10:35 WARN WindowExec: No Partition Defined for Window operation! Moving all data to a single partition, this can cause serious performance degradation.\n",
      "24/05/23 08:10:35 WARN WindowExec: No Partition Defined for Window operation! Moving all data to a single partition, this can cause serious performance degradation.\n",
      "24/05/23 08:10:36 WARN WindowExec: No Partition Defined for Window operation! Moving all data to a single partition, this can cause serious performance degradation.\n",
      "24/05/23 08:10:38 WARN WindowExec: No Partition Defined for Window operation! Moving all data to a single partition, this can cause serious performance degradation.\n",
      "24/05/23 08:10:38 WARN WindowExec: No Partition Defined for Window operation! Moving all data to a single partition, this can cause serious performance degradation.\n",
      "24/05/23 08:10:39 WARN WindowExec: No Partition Defined for Window operation! Moving all data to a single partition, this can cause serious performance degradation.\n",
      "                                                                                \r"
     ]
    }
   ],
   "source": [
    "string_columns = ['RegionName', 'Sex', 'AgeGroup']\n",
    "indexers = [StringIndexer(inputCol=col, outputCol=f\"{col}_indexed\") for col in string_columns]\n",
    "\n",
    "feature_columns = ['Year', 'Population', 'GDP', 'GDPPerCapita', 'GrossNationalIncome', \n",
    "                   'GNIPerCapita', 'InflationRate', 'EmploymentPopulationRatio', 'DeathRatePer100K'] + \\\n",
    "                   [f\"{col}_indexed\" for col in string_columns]\n",
    "assembler = VectorAssembler(inputCols=feature_columns, outputCol=\"features\")\n",
    "\n",
    "# use Pipeline\n",
    "pipeline = Pipeline(stages=indexers + [assembler])\n",
    "df_prepared = pipeline.fit(merged_df).transform(merged_df)"
   ]
  },
  {
   "cell_type": "code",
   "execution_count": null,
   "id": "dde7a5f2",
   "metadata": {},
   "outputs": [],
   "source": []
  },
  {
   "cell_type": "code",
   "execution_count": null,
   "id": "57ef250e",
   "metadata": {},
   "outputs": [],
   "source": []
  },
  {
   "cell_type": "code",
   "execution_count": 35,
   "id": "5dc03e58",
   "metadata": {},
   "outputs": [],
   "source": [
    "train_df, test_df = df_prepared.randomSplit([0.7, 0.3], seed=42)"
   ]
  },
  {
   "cell_type": "code",
   "execution_count": 24,
   "id": "ae8ae7fe",
   "metadata": {},
   "outputs": [],
   "source": [
    "from pyspark.ml.regression import RandomForestRegressor\n",
    "from pyspark.ml.evaluation import RegressionEvaluator"
   ]
  },
  {
   "cell_type": "code",
   "execution_count": 36,
   "id": "b8347606",
   "metadata": {},
   "outputs": [
    {
     "name": "stderr",
     "output_type": "stream",
     "text": [
      "24/05/23 08:10:48 WARN WindowExec: No Partition Defined for Window operation! Moving all data to a single partition, this can cause serious performance degradation.\n",
      "24/05/23 08:10:48 WARN WindowExec: No Partition Defined for Window operation! Moving all data to a single partition, this can cause serious performance degradation.\n",
      "24/05/23 08:10:49 WARN WindowExec: No Partition Defined for Window operation! Moving all data to a single partition, this can cause serious performance degradation.\n",
      "24/05/23 08:10:49 WARN WindowExec: No Partition Defined for Window operation! Moving all data to a single partition, this can cause serious performance degradation.\n",
      "24/05/23 08:10:50 WARN WindowExec: No Partition Defined for Window operation! Moving all data to a single partition, this can cause serious performance degradation.\n",
      "                                                                                \r"
     ]
    }
   ],
   "source": [
    "rf = RandomForestRegressor(labelCol=\"SuicideCount\", featuresCol=\"features\", numTrees=100)\n",
    "\n",
    "# training model\n",
    "rf_model = rf.fit(train_df)"
   ]
  },
  {
   "cell_type": "code",
   "execution_count": 37,
   "id": "41b5e3ba",
   "metadata": {},
   "outputs": [
    {
     "name": "stderr",
     "output_type": "stream",
     "text": [
      "24/05/23 08:11:10 WARN WindowExec: No Partition Defined for Window operation! Moving all data to a single partition, this can cause serious performance degradation.\n",
      "24/05/23 08:11:10 WARN WindowExec: No Partition Defined for Window operation! Moving all data to a single partition, this can cause serious performance degradation.\n",
      "24/05/23 08:11:12 WARN WindowExec: No Partition Defined for Window operation! Moving all data to a single partition, this can cause serious performance degradation.\n",
      "24/05/23 08:11:12 WARN WindowExec: No Partition Defined for Window operation! Moving all data to a single partition, this can cause serious performance degradation.\n",
      "24/05/23 08:11:13 WARN WindowExec: No Partition Defined for Window operation! Moving all data to a single partition, this can cause serious performance degradation.\n",
      "24/05/23 08:11:14 WARN WindowExec: No Partition Defined for Window operation! Moving all data to a single partition, this can cause serious performance degradation.\n",
      "24/05/23 08:11:14 WARN WindowExec: No Partition Defined for Window operation! Moving all data to a single partition, this can cause serious performance degradation.\n",
      "24/05/23 08:11:16 WARN WindowExec: No Partition Defined for Window operation! Moving all data to a single partition, this can cause serious performance degradation.\n",
      "24/05/23 08:11:16 WARN WindowExec: No Partition Defined for Window operation! Moving all data to a single partition, this can cause serious performance degradation.\n",
      "24/05/23 08:11:16 WARN WindowExec: No Partition Defined for Window operation! Moving all data to a single partition, this can cause serious performance degradation.\n",
      "[Stage 209:>                                                        (0 + 1) / 1]\r"
     ]
    },
    {
     "name": "stdout",
     "output_type": "stream",
     "text": [
      "Root Mean Squared Error (RMSE) on test data = 1.0254153508680108\n",
      "R-squared on test data = 0.7961738688222975\n"
     ]
    },
    {
     "name": "stderr",
     "output_type": "stream",
     "text": [
      "\r",
      "                                                                                \r"
     ]
    }
   ],
   "source": [
    "# performance on training data\n",
    "fit = rf_model.transform(train_df)\n",
    "\n",
    "# evaluate\n",
    "evaluator_rmse = RegressionEvaluator(labelCol=\"SuicideCount\", predictionCol=\"prediction\", metricName=\"rmse\")\n",
    "rmse = evaluator_rmse.evaluate(fit)\n",
    "evaluator_r2 = RegressionEvaluator(labelCol=\"SuicideCount\", predictionCol=\"prediction\", metricName=\"r2\")\n",
    "r2 = evaluator_r2.evaluate(fit)\n",
    "print(f\"Root Mean Squared Error (RMSE) on test data = {rmse}\")\n",
    "print(f\"R-squared on test data = {r2}\")"
   ]
  },
  {
   "cell_type": "code",
   "execution_count": 38,
   "id": "dc8bc53f",
   "metadata": {},
   "outputs": [
    {
     "name": "stderr",
     "output_type": "stream",
     "text": [
      "24/05/23 08:11:21 WARN WindowExec: No Partition Defined for Window operation! Moving all data to a single partition, this can cause serious performance degradation.\n",
      "24/05/23 08:11:21 WARN WindowExec: No Partition Defined for Window operation! Moving all data to a single partition, this can cause serious performance degradation.\n",
      "24/05/23 08:11:22 WARN WindowExec: No Partition Defined for Window operation! Moving all data to a single partition, this can cause serious performance degradation.\n",
      "24/05/23 08:11:22 WARN WindowExec: No Partition Defined for Window operation! Moving all data to a single partition, this can cause serious performance degradation.\n",
      "24/05/23 08:11:24 WARN WindowExec: No Partition Defined for Window operation! Moving all data to a single partition, this can cause serious performance degradation.\n",
      "24/05/23 08:11:24 WARN WindowExec: No Partition Defined for Window operation! Moving all data to a single partition, this can cause serious performance degradation.\n",
      "24/05/23 08:11:25 WARN WindowExec: No Partition Defined for Window operation! Moving all data to a single partition, this can cause serious performance degradation.\n",
      "24/05/23 08:11:25 WARN WindowExec: No Partition Defined for Window operation! Moving all data to a single partition, this can cause serious performance degradation.\n",
      "[Stage 221:>                                                        (0 + 1) / 1]\r"
     ]
    },
    {
     "name": "stdout",
     "output_type": "stream",
     "text": [
      "Root Mean Squared Error (RMSE) on test data = 1.0209705364379418\n",
      "R-squared on test data = 0.7974086113583381\n"
     ]
    },
    {
     "name": "stderr",
     "output_type": "stream",
     "text": [
      "\r",
      "                                                                                \r"
     ]
    }
   ],
   "source": [
    "# predict on test set\n",
    "predictions = rf_model.transform(test_df)\n",
    "\n",
    "# evaluate\n",
    "rmse = evaluator_rmse.evaluate(predictions)\n",
    "r2 = evaluator_r2.evaluate(predictions)\n",
    "print(f\"Root Mean Squared Error (RMSE) on test data = {rmse}\")\n",
    "\n",
    "print(f\"R-squared on test data = {r2}\")"
   ]
  },
  {
   "cell_type": "code",
   "execution_count": 39,
   "id": "83bc2872",
   "metadata": {},
   "outputs": [
    {
     "name": "stdout",
     "output_type": "stream",
     "text": [
      "Feature: DeathRatePer100K, Importance: 0.315749\n",
      "Feature: AgeGroup_indexed, Importance: 0.226829\n",
      "Feature: Population, Importance: 0.216074\n",
      "Feature: GrossNationalIncome, Importance: 0.085314\n",
      "Feature: GDP, Importance: 0.081701\n",
      "Feature: RegionName_indexed, Importance: 0.035339\n",
      "Feature: Sex_indexed, Importance: 0.017346\n",
      "Feature: InflationRate, Importance: 0.008806\n",
      "Feature: GDPPerCapita, Importance: 0.006722\n",
      "Feature: GNIPerCapita, Importance: 0.003689\n",
      "Feature: EmploymentPopulationRatio, Importance: 0.002112\n",
      "Feature: Year, Importance: 0.000318\n"
     ]
    }
   ],
   "source": [
    "# capture the feature importance\n",
    "importances = rf_model.featureImportances\n",
    "\n",
    "feature_importances = [(feature, importance) for feature, importance in zip(feature_columns, importances)]\n",
    "\n",
    "# sort the importance\n",
    "sorted_feature_importances = sorted(feature_importances, key=lambda x: x[1], reverse=True)\n",
    "\n",
    "for feature, importance in sorted_feature_importances:\n",
    "    print(f\"Feature: {feature}, Importance: {importance:.6f}\")"
   ]
  },
  {
   "cell_type": "code",
   "execution_count": 40,
   "id": "9e7431a1",
   "metadata": {},
   "outputs": [
    {
     "data": {
      "image/png": "[encoded data removed]",
      "text/plain": [
       "<Figure size 720x432 with 1 Axes>"
      ]
     },
     "metadata": {
      "needs_background": "light"
     },
     "output_type": "display_data"
    }
   ],
   "source": [
    "features, importances = zip(*sorted_feature_importances)\n",
    "\n",
    "plt.figure(figsize=(10, 6))\n",
    "plt.barh(features, importances, color='skyblue')\n",
    "plt.xlabel('Importance')\n",
    "plt.title('Feature Importances')\n",
    "plt.gca().invert_yaxis()  # invert the Y-axis so that the most important features are at the top\n",
    "plt.show()"
   ]
  },
  {
   "cell_type": "markdown",
   "id": "99a455b4",
   "metadata": {},
   "source": [
    "# 8. Interpretation"
   ]
  },
  {
   "cell_type": "code",
   "execution_count": 41,
   "id": "c29f868b",
   "metadata": {},
   "outputs": [],
   "source": [
    "from pyspark.sql.functions import corr"
   ]
  },
  {
   "cell_type": "code",
   "execution_count": 45,
   "id": "0757b344",
   "metadata": {},
   "outputs": [
    {
     "name": "stderr",
     "output_type": "stream",
     "text": [
      "24/05/23 09:26:29 WARN WindowExec: No Partition Defined for Window operation! Moving all data to a single partition, this can cause serious performance degradation.\n",
      "24/05/23 09:26:30 WARN WindowExec: No Partition Defined for Window operation! Moving all data to a single partition, this can cause serious performance degradation.\n",
      "24/05/23 09:26:31 WARN WindowExec: No Partition Defined for Window operation! Moving all data to a single partition, this can cause serious performance degradation.\n",
      "24/05/23 09:26:31 WARN WindowExec: No Partition Defined for Window operation! Moving all data to a single partition, this can cause serious performance degradation.\n",
      "24/05/23 09:26:32 WARN WindowExec: No Partition Defined for Window operation! Moving all data to a single partition, this can cause serious performance degradation.\n",
      "24/05/23 09:26:32 WARN WindowExec: No Partition Defined for Window operation! Moving all data to a single partition, this can cause serious performance degradation.\n",
      "24/05/23 09:26:33 WARN WindowExec: No Partition Defined for Window operation! Moving all data to a single partition, this can cause serious performance degradation.\n"
     ]
    },
    {
     "name": "stdout",
     "output_type": "stream",
     "text": [
      "Pearson correlation coefficient between Population and SuicideCount is 0.5804450914867084\n",
      "Pearson correlation coefficient between DeathRatePer100K and SuicideCount is 0.4880105967450528\n"
     ]
    },
    {
     "name": "stderr",
     "output_type": "stream",
     "text": [
      "\r",
      "[Stage 251:>                                                        (0 + 1) / 1]\r",
      "\r",
      "                                                                                \r"
     ]
    }
   ],
   "source": [
    "#  check the Pearson correlation coefficien\n",
    "correlation_PS = merged_df.select(corr('Population', 'SuicideCount')).collect()[0][0]\n",
    "correlation_DS = merged_df.select(corr('DeathRatePer100K', 'SuicideCount')).collect()[0][0]\n",
    "\n",
    "print(f\"Pearson correlation coefficient between Population and SuicideCount is {correlation_PS}\")\n",
    "print(f\"Pearson correlation coefficient between DeathRatePer100K and SuicideCount is {correlation_DS}\")"
   ]
  },
  {
   "cell_type": "markdown",
   "id": "a34c447c",
   "metadata": {},
   "source": [
    "## Visualising the Data,Results,Models and Patterns "
   ]
  },
  {
   "cell_type": "code",
   "execution_count": null,
   "id": "147d7294",
   "metadata": {},
   "outputs": [],
   "source": [
    "from pyspark.ml.regression import LinearRegression\n",
    "\n",
    "# visual DeathRatePer100K vs. SuicideCount\n",
    "assembler = VectorAssembler(inputCols=['DeathRatePer100K'], outputCol='features')\n",
    "df_vectorized = assembler.transform(merged_df)\n",
    "\n",
    "# fit a linear regression model\n",
    "lr = LinearRegression(featuresCol='features', labelCol='SuicideCount')\n",
    "lr_model = lr.fit(df_vectorized)\n",
    "\n",
    "# prediction\n",
    "predictions = lr_model.transform(df_vectorized)\n",
    "predictions_pd = predictions.select('DeathRatePer100K', 'SuicideCount', 'prediction').toPandas()\n"
   ]
  },
  {
   "cell_type": "code",
   "execution_count": 47,
   "id": "781006b5",
   "metadata": {},
   "outputs": [
    {
     "data": {
      "image/png": "[encoded data removed]",
      "text/plain": [
       "<Figure size 432x288 with 1 Axes>"
      ]
     },
     "metadata": {
      "needs_background": "light"
     },
     "output_type": "display_data"
    }
   ],
   "source": [
    "# plot scatter plot\n",
    "plt.scatter(predictions_pd['DeathRatePer100K'], predictions_pd['SuicideCount'], label='Data')\n",
    "plt.plot(predictions_pd['DeathRatePer100K'], predictions_pd['prediction'], color='red', label='Fitted line')\n",
    "plt.title('Scatter Plot between DeathRatePer100K and SuicideCount')\n",
    "plt.xlabel('DeathRatePer100K')\n",
    "plt.ylabel('SuicideCount')\n",
    "plt.ylim(0, 10)\n",
    "plt.legend()\n",
    "plt.show()"
   ]
  },
  {
   "cell_type": "code",
   "execution_count": null,
   "id": "6d142e42",
   "metadata": {},
   "outputs": [],
   "source": [
    "# visual Population vs. SuicideCount\n",
    "assembler = VectorAssembler(inputCols=['Population'], outputCol='features')\n",
    "df_vectorized = assembler.transform(merged_df)\n",
    "\n",
    "# fit a linear regression model\n",
    "lr = LinearRegression(featuresCol='features', labelCol='SuicideCount')\n",
    "lr_model = lr.fit(df_vectorized)\n",
    "\n",
    "# prediction\n",
    "predictions = lr_model.transform(df_vectorized)\n",
    "predictions_pd = predictions.select('Population', 'SuicideCount', 'prediction').toPandas()"
   ]
  },
  {
   "cell_type": "code",
   "execution_count": 49,
   "id": "65789892",
   "metadata": {},
   "outputs": [
    {
     "data": {
      "image/png": "[encoded data removed]",
      "text/plain": [
       "<Figure size 432x288 with 1 Axes>"
      ]
     },
     "metadata": {
      "needs_background": "light"
     },
     "output_type": "display_data"
    }
   ],
   "source": [
    "# plot scatter plot\n",
    "plt.scatter(predictions_pd['Population'], predictions_pd['SuicideCount'], label='Data')\n",
    "plt.plot(predictions_pd['Population'], predictions_pd['prediction'], color='red', label='Fitted line')\n",
    "plt.title('Scatter Plot between Population and SuicideCount')\n",
    "plt.xlabel('Population')\n",
    "plt.ylabel('SuicideCount')\n",
    "plt.ylim(0, 10)\n",
    "plt.legend()\n",
    "plt.show()"
   ]
  },
  {
   "cell_type": "markdown",
   "id": "28b6fcc5",
   "metadata": {},
   "source": [
    "### Iterations"
   ]
  },
  {
   "cell_type": "code",
   "execution_count": 52,
   "id": "1643b05d",
   "metadata": {},
   "outputs": [],
   "source": [
    "from pyspark.sql.functions import pow"
   ]
  },
  {
   "cell_type": "code",
   "execution_count": 55,
   "id": "25464b02",
   "metadata": {},
   "outputs": [],
   "source": [
    "columns_to_transform = ['Population', 'SuicideCount', 'GDP', 'DeathRatePer100K',\n",
    "                        'GrossNationalIncome', 'GNIPerCapita', 'EmploymentPopulationRatio', 'GDPPerCapita','InflationRate']\n",
    "\n",
    "for column in columns_to_transform:\n",
    "    merged_df = merged_df.withColumn(column, log1p(pow(col(column),2)))"
   ]
  },
  {
   "cell_type": "code",
   "execution_count": 56,
   "id": "f3091fb1",
   "metadata": {},
   "outputs": [
    {
     "name": "stderr",
     "output_type": "stream",
     "text": [
      "24/05/23 10:10:52 WARN WindowExec: No Partition Defined for Window operation! Moving all data to a single partition, this can cause serious performance degradation.\n",
      "24/05/23 10:10:53 WARN WindowExec: No Partition Defined for Window operation! Moving all data to a single partition, this can cause serious performance degradation.\n",
      "24/05/23 10:10:53 WARN WindowExec: No Partition Defined for Window operation! Moving all data to a single partition, this can cause serious performance degradation.\n",
      "24/05/23 10:10:54 WARN WindowExec: No Partition Defined for Window operation! Moving all data to a single partition, this can cause serious performance degradation.\n",
      "[Stage 317:>                                                        (0 + 1) / 1]\r"
     ]
    },
    {
     "name": "stdout",
     "output_type": "stream",
     "text": [
      "+----------+----+---+--------+----------+---+------------+-------------------+------------+-------------+-------------------------+------------+----------------+\n",
      "|RegionName|Year|Sex|AgeGroup|Population|GDP|GDPPerCapita|GrossNationalIncome|GNIPerCapita|InflationRate|EmploymentPopulationRatio|SuicideCount|DeathRatePer100K|\n",
      "+----------+----+---+--------+----------+---+------------+-------------------+------------+-------------+-------------------------+------------+----------------+\n",
      "|         0|   0|  0|       0|         0|  0|           0|                  0|           0|            0|                        0|           0|               0|\n",
      "+----------+----+---+--------+----------+---+------------+-------------------+------------+-------------+-------------------------+------------+----------------+\n",
      "\n"
     ]
    },
    {
     "name": "stderr",
     "output_type": "stream",
     "text": [
      "\r",
      "                                                                                \r"
     ]
    }
   ],
   "source": [
    "null_counts = merged_df.select([sum(col(column).isNull().cast(\"int\")).alias(column) for column in merged_df.columns])\n",
    "null_counts.show()"
   ]
  },
  {
   "cell_type": "code",
   "execution_count": 59,
   "id": "bb6b073f",
   "metadata": {},
   "outputs": [
    {
     "name": "stderr",
     "output_type": "stream",
     "text": [
      "                                                                                \r"
     ]
    },
    {
     "data": {
      "image/png": "[encoded data removed]",
      "text/plain": [
       "<Figure size 432x288 with 1 Axes>"
      ]
     },
     "metadata": {
      "needs_background": "light"
     },
     "output_type": "display_data"
    },
    {
     "name": "stderr",
     "output_type": "stream",
     "text": [
      "                                                                                \r"
     ]
    },
    {
     "data": {
      "image/png": "[encoded data removed]",
      "text/plain": [
       "<Figure size 432x288 with 1 Axes>"
      ]
     },
     "metadata": {
      "needs_background": "light"
     },
     "output_type": "display_data"
    },
    {
     "name": "stderr",
     "output_type": "stream",
     "text": [
      "                                                                                \r"
     ]
    },
    {
     "data": {
      "image/png": "[encoded data removed]",
      "text/plain": [
       "<Figure size 432x288 with 1 Axes>"
      ]
     },
     "metadata": {
      "needs_background": "light"
     },
     "output_type": "display_data"
    },
    {
     "name": "stderr",
     "output_type": "stream",
     "text": [
      "                                                                                \r"
     ]
    },
    {
     "data": {
      "image/png": "[encoded data removed]",
      "text/plain": [
       "<Figure size 432x288 with 1 Axes>"
      ]
     },
     "metadata": {
      "needs_background": "light"
     },
     "output_type": "display_data"
    },
    {
     "name": "stderr",
     "output_type": "stream",
     "text": [
      "                                                                                \r"
     ]
    },
    {
     "data": {
      "image/png": "[encoded data removed]",
      "text/plain": [
       "<Figure size 432x288 with 1 Axes>"
      ]
     },
     "metadata": {
      "needs_background": "light"
     },
     "output_type": "display_data"
    },
    {
     "name": "stderr",
     "output_type": "stream",
     "text": [
      "                                                                                \r"
     ]
    },
    {
     "data": {
      "image/png": "[encoded data removed]",
      "text/plain": [
       "<Figure size 432x288 with 1 Axes>"
      ]
     },
     "metadata": {
      "needs_background": "light"
     },
     "output_type": "display_data"
    },
    {
     "name": "stderr",
     "output_type": "stream",
     "text": [
      "                                                                                \r"
     ]
    },
    {
     "data": {
      "image/png": "[encoded data removed]",
      "text/plain": [
       "<Figure size 432x288 with 1 Axes>"
      ]
     },
     "metadata": {
      "needs_background": "light"
     },
     "output_type": "display_data"
    },
    {
     "name": "stderr",
     "output_type": "stream",
     "text": [
      "                                                                                \r"
     ]
    },
    {
     "data": {
      "image/png": "[encoded data removed]",
      "text/plain": [
       "<Figure size 432x288 with 1 Axes>"
      ]
     },
     "metadata": {
      "needs_background": "light"
     },
     "output_type": "display_data"
    },
    {
     "name": "stderr",
     "output_type": "stream",
     "text": [
      "                                                                                \r"
     ]
    },
    {
     "data": {
      "image/png": "[encoded data removed]",
      "text/plain": [
       "<Figure size 432x288 with 1 Axes>"
      ]
     },
     "metadata": {
      "needs_background": "light"
     },
     "output_type": "display_data"
    }
   ],
   "source": [
    "for column in columns_to_transform:\n",
    "    plt.figure()\n",
    "    column_data = merged_df.select(column).rdd.flatMap(lambda x: x).collect()\n",
    "    # plot histogram\n",
    "    sns.histplot(column_data, bins=10, kde=True, color='green')\n",
    "    plt.title(f'Histogram of {column}')\n",
    "    plt.xlabel(f'log_{column}')\n",
    "    plt.show()"
   ]
  },
  {
   "cell_type": "code",
   "execution_count": 57,
   "id": "da142724",
   "metadata": {},
   "outputs": [
    {
     "name": "stderr",
     "output_type": "stream",
     "text": [
      "24/05/23 10:13:40 WARN WindowExec: No Partition Defined for Window operation! Moving all data to a single partition, this can cause serious performance degradation.\n",
      "24/05/23 10:13:41 WARN WindowExec: No Partition Defined for Window operation! Moving all data to a single partition, this can cause serious performance degradation.\n",
      "24/05/23 10:13:41 WARN WindowExec: No Partition Defined for Window operation! Moving all data to a single partition, this can cause serious performance degradation.\n",
      "24/05/23 10:13:43 WARN WindowExec: No Partition Defined for Window operation! Moving all data to a single partition, this can cause serious performance degradation.\n",
      "24/05/23 10:13:47 WARN WindowExec: No Partition Defined for Window operation! Moving all data to a single partition, this can cause serious performance degradation.\n",
      "24/05/23 10:13:47 WARN WindowExec: No Partition Defined for Window operation! Moving all data to a single partition, this can cause serious performance degradation.\n",
      "24/05/23 10:13:48 WARN WindowExec: No Partition Defined for Window operation! Moving all data to a single partition, this can cause serious performance degradation.\n",
      "24/05/23 10:13:48 WARN WindowExec: No Partition Defined for Window operation! Moving all data to a single partition, this can cause serious performance degradation.\n",
      "24/05/23 10:13:49 WARN WindowExec: No Partition Defined for Window operation! Moving all data to a single partition, this can cause serious performance degradation.\n",
      "                                                                                \r"
     ]
    }
   ],
   "source": [
    "string_columns = ['RegionName', 'Sex', 'AgeGroup']\n",
    "indexers = [StringIndexer(inputCol=col, outputCol=f\"{col}_indexed\") for col in string_columns]\n",
    "\n",
    "feature_columns = ['Year', 'Population', 'GDP', 'GDPPerCapita', 'GrossNationalIncome', \n",
    "                   'GNIPerCapita', 'InflationRate', 'EmploymentPopulationRatio', 'DeathRatePer100K'] + \\\n",
    "                   [f\"{col}_indexed\" for col in string_columns]\n",
    "assembler = VectorAssembler(inputCols=feature_columns, outputCol=\"features\")\n",
    "\n",
    "# use Pipeline\n",
    "pipeline = Pipeline(stages=indexers + [assembler])\n",
    "df_prepared = pipeline.fit(merged_df).transform(merged_df)\n",
    "\n",
    "train_df, test_df = df_prepared.randomSplit([0.7, 0.3], seed=42)\n",
    "\n",
    "rf = RandomForestRegressor(labelCol=\"SuicideCount\", featuresCol=\"features\", numTrees=100)\n",
    "\n",
    "# training model\n",
    "rf_model = rf.fit(train_df)\n",
    "\n",
    "\n",
    "# performance on training data\n",
    "fit = rf_model.transform(train_df)"
   ]
  },
  {
   "cell_type": "code",
   "execution_count": 58,
   "id": "1702e8ea",
   "metadata": {},
   "outputs": [
    {
     "name": "stderr",
     "output_type": "stream",
     "text": [
      "24/05/23 10:14:21 WARN WindowExec: No Partition Defined for Window operation! Moving all data to a single partition, this can cause serious performance degradation.\n",
      "24/05/23 10:14:21 WARN WindowExec: No Partition Defined for Window operation! Moving all data to a single partition, this can cause serious performance degradation.\n",
      "24/05/23 10:14:22 WARN WindowExec: No Partition Defined for Window operation! Moving all data to a single partition, this can cause serious performance degradation.\n",
      "24/05/23 10:14:22 WARN WindowExec: No Partition Defined for Window operation! Moving all data to a single partition, this can cause serious performance degradation.\n",
      "24/05/23 10:14:23 WARN WindowExec: No Partition Defined for Window operation! Moving all data to a single partition, this can cause serious performance degradation.\n",
      "24/05/23 10:14:26 WARN WindowExec: No Partition Defined for Window operation! Moving all data to a single partition, this can cause serious performance degradation.\n",
      "24/05/23 10:14:26 WARN WindowExec: No Partition Defined for Window operation! Moving all data to a single partition, this can cause serious performance degradation.\n",
      "24/05/23 10:14:27 WARN WindowExec: No Partition Defined for Window operation! Moving all data to a single partition, this can cause serious performance degradation.\n",
      "24/05/23 10:14:28 WARN WindowExec: No Partition Defined for Window operation! Moving all data to a single partition, this can cause serious performance degradation.\n",
      "24/05/23 10:14:31 WARN WindowExec: No Partition Defined for Window operation! Moving all data to a single partition, this can cause serious performance degradation.\n",
      "24/05/23 10:14:31 WARN WindowExec: No Partition Defined for Window operation! Moving all data to a single partition, this can cause serious performance degradation.\n"
     ]
    },
    {
     "name": "stdout",
     "output_type": "stream",
     "text": [
      "Root Mean Squared Error (RMSE) on test data = 2.24926455595375\n",
      "R-squared on test data = 0.7461063517900448\n"
     ]
    },
    {
     "name": "stderr",
     "output_type": "stream",
     "text": [
      "24/05/23 10:14:32 WARN WindowExec: No Partition Defined for Window operation! Moving all data to a single partition, this can cause serious performance degradation.\n",
      "24/05/23 10:14:33 WARN WindowExec: No Partition Defined for Window operation! Moving all data to a single partition, this can cause serious performance degradation.\n",
      "24/05/23 10:14:34 WARN WindowExec: No Partition Defined for Window operation! Moving all data to a single partition, this can cause serious performance degradation.\n",
      "24/05/23 10:14:34 WARN WindowExec: No Partition Defined for Window operation! Moving all data to a single partition, this can cause serious performance degradation.\n",
      "24/05/23 10:14:35 WARN WindowExec: No Partition Defined for Window operation! Moving all data to a single partition, this can cause serious performance degradation.\n",
      "24/05/23 10:14:36 WARN WindowExec: No Partition Defined for Window operation! Moving all data to a single partition, this can cause serious performance degradation.\n",
      "[Stage 392:>                                                        (0 + 1) / 1]\r"
     ]
    },
    {
     "name": "stdout",
     "output_type": "stream",
     "text": [
      "Root Mean Squared Error (RMSE) on test data = 2.2391004808517745\n",
      "R-squared on test data = 0.7510353818350277\n"
     ]
    },
    {
     "name": "stderr",
     "output_type": "stream",
     "text": [
      "\r",
      "                                                                                \r"
     ]
    }
   ],
   "source": [
    "# evaluate\n",
    "evaluator_rmse = RegressionEvaluator(labelCol=\"SuicideCount\", predictionCol=\"prediction\", metricName=\"rmse\")\n",
    "rmse = evaluator_rmse.evaluate(fit)\n",
    "evaluator_r2 = RegressionEvaluator(labelCol=\"SuicideCount\", predictionCol=\"prediction\", metricName=\"r2\")\n",
    "r2 = evaluator_r2.evaluate(fit)\n",
    "print(f\"Root Mean Squared Error (RMSE) on test data = {rmse}\")\n",
    "print(f\"R-squared on test data = {r2}\")\n",
    "\n",
    "\n",
    "# predict on test set\n",
    "predictions = rf_model.transform(test_df)\n",
    "\n",
    "# evaluate\n",
    "rmse = evaluator_rmse.evaluate(predictions)\n",
    "r2 = evaluator_r2.evaluate(predictions)\n",
    "print(f\"Root Mean Squared Error (RMSE) on test data = {rmse}\")\n",
    "\n",
    "print(f\"R-squared on test data = {r2}\")"
   ]
  }
 ],
 "metadata": {
  "kernelspec": {
   "display_name": "Python 3 (ipykernel)",
   "language": "python",
   "name": "python3"
  },
  "language_info": {
   "codemirror_mode": {
    "name": "ipython",
    "version": 3
   },
   "file_extension": ".py",
   "mimetype": "text/x-python",
   "name": "python",
   "nbconvert_exporter": "python",
   "pygments_lexer": "ipython3",
   "version": "3.10.4"
  }
 },
 "nbformat": 4,
 "nbformat_minor": 5
}
