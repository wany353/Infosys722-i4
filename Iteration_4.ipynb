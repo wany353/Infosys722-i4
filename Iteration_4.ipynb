{
 "cells": [
  {
   "cell_type": "markdown",
   "id": "4b3a4078",
   "metadata": {},
   "source": [
    "# Iteration 4"
   ]
  },
  {
   "cell_type": "code",
   "execution_count": 1,
   "id": "2e054284",
   "metadata": {},
   "outputs": [
    {
     "name": "stderr",
     "output_type": "stream",
     "text": [
      "WARNING: An illegal reflective access operation has occurred\n",
      "WARNING: Illegal reflective access by org.apache.spark.unsafe.Platform (file:/home/ubuntu/spark-3.2.1-bin-hadoop2.7/jars/spark-unsafe_2.12-3.2.1.jar) to constructor java.nio.DirectByteBuffer(long,int)\n",
      "WARNING: Please consider reporting this to the maintainers of org.apache.spark.unsafe.Platform\n",
      "WARNING: Use --illegal-access=warn to enable warnings of further illegal reflective access operations\n",
      "WARNING: All illegal access operations will be denied in a future release\n",
      "Using Spark's default log4j profile: org/apache/spark/log4j-defaults.properties\n",
      "Setting default log level to \"WARN\".\n",
      "To adjust logging level use sc.setLogLevel(newLevel). For SparkR, use setLogLevel(newLevel).\n",
      "24/05/22 13:28:12 WARN NativeCodeLoader: Unable to load native-hadoop library for your platform... using builtin-java classes where applicable\n"
     ]
    }
   ],
   "source": [
    "# Must be included at the beginning of each new notebook. Remember to change the app name.\n",
    "import findspark\n",
    "findspark.init('/home/ubuntu/spark-3.2.1-bin-hadoop2.7')\n",
    "import pyspark\n",
    "from pyspark.sql import SparkSession\n",
    "from pyspark.sql.functions import avg, stddev, col, randn, when, lit,sum, mean,row_number, rand, monotonically_increasing_id\n",
    "\n",
    "from pyspark.sql.window import Window\n",
    "spark = SparkSession.builder.appName('Iteration4').getOrCreate()"
   ]
  },
  {
   "cell_type": "code",
   "execution_count": 2,
   "id": "c8e1420d",
   "metadata": {},
   "outputs": [
    {
     "name": "stderr",
     "output_type": "stream",
     "text": [
      "                                                                                \r"
     ]
    }
   ],
   "source": [
    "# load the data\n",
    "df = spark.read.csv('./suicide/suicide_rates_1990-2022.csv', inferSchema=True, header=True)"
   ]
  },
  {
   "cell_type": "code",
   "execution_count": null,
   "id": "1ccdb0e9",
   "metadata": {},
   "outputs": [],
   "source": []
  },
  {
   "cell_type": "markdown",
   "id": "5d3193d3",
   "metadata": {},
   "source": [
    "# 2.Data Understanding\n",
    "\n",
    "## 2.3 Data Exploration"
   ]
  },
  {
   "cell_type": "code",
   "execution_count": null,
   "id": "758293ad",
   "metadata": {},
   "outputs": [],
   "source": [
    "# describe data\n",
    "df.printSchema()\n",
    "print('Index:',df.count())\n",
    "print('Data columns:',len(df.columns))"
   ]
  },
  {
   "cell_type": "code",
   "execution_count": 3,
   "id": "a5aa95a3",
   "metadata": {},
   "outputs": [],
   "source": [
    "import numpy as np\n",
    "import matplotlib.pyplot as plt\n",
    "import pandas as pd"
   ]
  },
  {
   "cell_type": "code",
   "execution_count": null,
   "id": "6eb17b53",
   "metadata": {},
   "outputs": [],
   "source": [
    "# caculate the sum of SuicideCount with same AgeGroup\n",
    "gdp = df.groupBy(\"GDPPerCapita\").agg(sum(\"SuicideCount\").alias(\"Total_SuicideCount\"))\n",
    "\n",
    "# trans to Pandas DataFrame\n",
    "pandas_df = gdp.toPandas()\n",
    "pandas_df = pandas_df.sort_values(by=\"GDPPerCapita\")\n",
    "\n",
    "plt.figure(figsize=(10, 6))\n",
    "plt.plot(pandas_df[\"GDPPerCapita\"], pandas_df[\"Total_SuicideCount\"], color='skyblue')\n",
    "plt.xlabel('GDPPerCapita')\n",
    "plt.ylabel('Total SuicideCount')\n",
    "plt.title('Total SuicideCount by GDPPerCapita')\n",
    "plt.show()"
   ]
  },
  {
   "cell_type": "code",
   "execution_count": null,
   "id": "0c41f349",
   "metadata": {},
   "outputs": [],
   "source": [
    "age_group_counts = df.groupBy(\"AgeGroup\").agg(count(\"*\").alias(\"count\"))\n",
    "\n",
    "# trans to Pandas DataFrame\n",
    "pandas_age_group_counts = age_group_counts.toPandas()\n",
    "pandas_age_group_counts = pandas_age_group_counts.sort_values(by=\"AgeGroup\")\n",
    "\n",
    "# plot histogram\n",
    "plt.figure(figsize=(12, 6))\n",
    "plt.bar(pandas_age_group_counts[\"AgeGroup\"], pandas_age_group_counts[\"count\"], color='skyblue')\n",
    "plt.xlabel('Age Group')\n",
    "plt.ylabel('Count')\n",
    "plt.title('Age Group Distribution')\n",
    "plt.xticks(rotation=45)\n",
    "plt.show()\n"
   ]
  },
  {
   "cell_type": "code",
   "execution_count": null,
   "id": "f8f65f96",
   "metadata": {},
   "outputs": [],
   "source": [
    "# caculate the sum of SuicideCount with same AgeGroup\n",
    "aggregated_df = df.groupBy(\"AgeGroup\").agg(sum(\"SuicideCount\").alias(\"Total_SuicideCount\"))\n",
    "\n",
    "# trans to Pandas DataFrame\n",
    "pandas_df = aggregated_df.toPandas()\n",
    "pandas_df = pandas_df.sort_values(by=\"AgeGroup\")\n",
    "\n",
    "plt.figure(figsize=(10, 6))\n",
    "plt.bar(pandas_df[\"AgeGroup\"], pandas_df[\"Total_SuicideCount\"], color='skyblue')\n",
    "plt.xlabel('AgeGroup')\n",
    "plt.ylabel('Total SuicideCount')\n",
    "plt.title('Total SuicideCount by AgeGroup')\n",
    "plt.show()"
   ]
  },
  {
   "cell_type": "code",
   "execution_count": null,
   "id": "dcb7815a",
   "metadata": {},
   "outputs": [],
   "source": [
    "# caculate the sum of SuicideCount with same AgeGroup\n",
    "year = df.groupBy(\"Year\").agg(sum(\"SuicideCount\").alias(\"Total_SuicideCount\"))\n",
    "\n",
    "# trans to Pandas DataFrame\n",
    "pandas_df = year.toPandas()\n",
    "pandas_df = pandas_df.sort_values(by=\"Year\")\n",
    "\n",
    "plt.figure(figsize=(10, 6))\n",
    "plt.plot(pandas_df[\"Year\"], pandas_df[\"Total_SuicideCount\"], color='skyblue')\n",
    "plt.grid(True, which='both', linestyle='--', linewidth=0.5)\n",
    "plt.xlabel('Year')\n",
    "plt.ylabel('Total SuicideCount')\n",
    "plt.title('Total SuicideCount by AgeGroup')\n",
    "plt.show()"
   ]
  },
  {
   "cell_type": "markdown",
   "id": "55eb4338",
   "metadata": {},
   "source": [
    "## 2.4 Verifying Data Quality"
   ]
  },
  {
   "cell_type": "code",
   "execution_count": null,
   "id": "240fa4f8",
   "metadata": {},
   "outputs": [],
   "source": [
    "df.show(10)"
   ]
  },
  {
   "cell_type": "code",
   "execution_count": 4,
   "id": "759a2f6a",
   "metadata": {},
   "outputs": [
    {
     "name": "stderr",
     "output_type": "stream",
     "text": [
      "[Stage 2:=============================>                             (1 + 1) / 2]\r"
     ]
    },
    {
     "name": "stdout",
     "output_type": "stream",
     "text": [
      "+----------+----------+-----------+-----------+----+---+--------+----------+------------+----------------------------+----------------+----------+----+------------+-------------------+------------+-------------+-------------------------+\n",
      "|RegionCode|RegionName|CountryCode|CountryName|Year|Sex|AgeGroup|Generation|SuicideCount|CauseSpecificDeathPercentage|DeathRatePer100K|Population| GDP|GDPPerCapita|GrossNationalIncome|GNIPerCapita|InflationRate|EmploymentPopulationRatio|\n",
      "+----------+----------+-----------+-----------+----+---+--------+----------+------------+----------------------------+----------------+----------+----+------------+-------------------+------------+-------------+-------------------------+\n",
      "|         0|         0|          0|          0|   0|  0|       0|         0|         464|                        4289|           10664|      5920|7240|        7240|               9960|       10760|        14460|                    11120|\n",
      "+----------+----------+-----------+-----------+----+---+--------+----------+------------+----------------------------+----------------+----------+----+------------+-------------------+------------+-------------+-------------------------+\n",
      "\n"
     ]
    },
    {
     "name": "stderr",
     "output_type": "stream",
     "text": [
      "\r",
      "                                                                                \r"
     ]
    }
   ],
   "source": [
    "# missing value\n",
    "null_counts = df.select([sum(col(column).isNull().cast(\"int\")).alias(column) for column in df.columns])\n",
    "null_counts.show()"
   ]
  },
  {
   "cell_type": "code",
   "execution_count": null,
   "id": "c68cd449",
   "metadata": {},
   "outputs": [],
   "source": [
    "round(df.dropna().count() / df.count() * 100, 2)"
   ]
  },
  {
   "cell_type": "markdown",
   "id": "f09f2868",
   "metadata": {},
   "source": [
    "# 3.Data Preparation\n",
    "## 3.1 Data selection"
   ]
  },
  {
   "cell_type": "code",
   "execution_count": 5,
   "id": "fb77c19b",
   "metadata": {},
   "outputs": [
    {
     "name": "stdout",
     "output_type": "stream",
     "text": [
      "+----------+-----------+----+----+-----------+------------+----------------+----------+-------------+------------+-------------------+------------+-------------+-------------------------+\n",
      "|RegionName|CountryName|Year| Sex|   AgeGroup|SuicideCount|DeathRatePer100K|Population|          GDP|GDPPerCapita|GrossNationalIncome|GNIPerCapita|InflationRate|EmploymentPopulationRatio|\n",
      "+----------+-----------+----+----+-----------+------------+----------------+----------+-------------+------------+-------------------+------------+-------------+-------------------------+\n",
      "|    Europe|    Albania|1992|Male| 0-14 years|           0|             0.0|   3247039|6.521749908E8| 200.8522198|      9.061842123E8|        1740|  226.0054213|                   45.315|\n",
      "|    Europe|    Albania|1992|Male| 0-14 years|           0|             0.0|   3247039|6.521749908E8| 200.8522198|      9.061842123E8|        1740|  226.0054213|                   45.315|\n",
      "|    Europe|    Albania|1992|Male| 0-14 years|           0|             0.0|   3247039|6.521749908E8| 200.8522198|      9.061842123E8|        1740|  226.0054213|                   45.315|\n",
      "|    Europe|    Albania|1992|Male| 0-14 years|           0|             0.0|   3247039|6.521749908E8| 200.8522198|      9.061842123E8|        1740|  226.0054213|                   45.315|\n",
      "|    Europe|    Albania|1992|Male|15-24 years|           5|      3.53107345|   3247039|6.521749908E8| 200.8522198|      9.061842123E8|        1740|  226.0054213|                   45.315|\n",
      "|    Europe|    Albania|1992|Male|15-24 years|           4|      3.27600328|   3247039|6.521749908E8| 200.8522198|      9.061842123E8|        1740|  226.0054213|                   45.315|\n",
      "|    Europe|    Albania|1992|Male|25-34 years|           3|      2.48756219|   3247039|6.521749908E8| 200.8522198|      9.061842123E8|        1740|  226.0054213|                   45.315|\n",
      "|    Europe|    Albania|1992|Male|25-34 years|           4|      3.20256205|   3247039|6.521749908E8| 200.8522198|      9.061842123E8|        1740|  226.0054213|                   45.315|\n",
      "|    Europe|    Albania|1992|Male|35-54 years|           1|      0.91575092|   3247039|6.521749908E8| 200.8522198|      9.061842123E8|        1740|  226.0054213|                   45.315|\n",
      "|    Europe|    Albania|1992|Male|35-54 years|           3|      3.42857143|   3247039|6.521749908E8| 200.8522198|      9.061842123E8|        1740|  226.0054213|                   45.315|\n",
      "+----------+-----------+----+----+-----------+------------+----------------+----------+-------------+------------+-------------------+------------+-------------+-------------------------+\n",
      "only showing top 10 rows\n",
      "\n"
     ]
    }
   ],
   "source": [
    "df_drop = df.drop('RegionCode', 'CountryCode', 'Generation', 'CauseSpecificDeathPercentage')\n",
    "\n",
    "df_drop.show(10)"
   ]
  },
  {
   "cell_type": "code",
   "execution_count": null,
   "id": "5f4cbe85",
   "metadata": {},
   "outputs": [],
   "source": [
    "df_drop.printSchema()"
   ]
  },
  {
   "cell_type": "markdown",
   "id": "144a7647",
   "metadata": {},
   "source": [
    "## 3.2 Clean Data"
   ]
  },
  {
   "cell_type": "markdown",
   "id": "5425bc4e",
   "metadata": {},
   "source": [
    "### Null value"
   ]
  },
  {
   "cell_type": "code",
   "execution_count": null,
   "id": "6496fe72",
   "metadata": {},
   "outputs": [],
   "source": [
    "null_counts = df_drop.select([sum(col(column).isNull().cast(\"int\")).alias(column) for column in df_drop.columns])\n",
    "null_counts.show()"
   ]
  },
  {
   "cell_type": "code",
   "execution_count": 6,
   "id": "668f88bf",
   "metadata": {},
   "outputs": [
    {
     "name": "stderr",
     "output_type": "stream",
     "text": [
      "                                                                                \r"
     ]
    }
   ],
   "source": [
    "# fill null value for SuicideCount and Population\n",
    "mean_values = df_drop.select(mean(\"SuicideCount\").alias(\"mean_SuicideCount\"), mean(\"Population\").alias(\"mean_Population\")).collect()[0]\n",
    "\n",
    "df_drop = df_drop.na.fill({\"SuicideCount\": mean_values[0], \"Population\": mean_values[1]})"
   ]
  },
  {
   "cell_type": "code",
   "execution_count": 7,
   "id": "94d7e400",
   "metadata": {},
   "outputs": [
    {
     "name": "stderr",
     "output_type": "stream",
     "text": [
      "24/05/22 13:29:19 WARN package: Truncated the string representation of a plan since it was too large. This behavior can be adjusted by setting 'spark.sql.debug.maxToStringFields'.\n",
      "                                                                                \r"
     ]
    }
   ],
   "source": [
    "# use the normal distribution to randomly fill\n",
    "# caculate mean and stand dev\n",
    "stats = df_drop.select(\n",
    "    [avg(c).alias(f\"mean_{c}\") for c in df_drop.columns] +\n",
    "    [stddev(c).alias(f\"stddev_{c}\") for c in df_drop.columns]\n",
    ").collect()[0]\n",
    "\n",
    "\n",
    "mean_stddev_dict = {col: (stats[f\"mean_{col}\"], stats[f\"stddev_{col}\"]) for col in df_drop.columns}\n",
    "\n",
    "# fill null value in each column\n",
    "for col_name in df_drop.columns:\n",
    "    mean = mean_stddev_dict[col_name][0]\n",
    "    stddev = mean_stddev_dict[col_name][1]\n",
    "    \n",
    "    # normal distribution\n",
    "    random_col = randn() * stddev + mean\n",
    "    df_drop = df_drop.withColumn(\n",
    "        col_name,\n",
    "        when(col(col_name).isNull(), random_col).otherwise(col(col_name))\n",
    "    )\n",
    "\n"
   ]
  },
  {
   "cell_type": "code",
   "execution_count": 8,
   "id": "bdb4fc2c",
   "metadata": {},
   "outputs": [
    {
     "name": "stderr",
     "output_type": "stream",
     "text": [
      "[Stage 12:=============================>                            (1 + 1) / 2]\r"
     ]
    },
    {
     "name": "stdout",
     "output_type": "stream",
     "text": [
      "+----------+-----------+----+---+--------+------------+----------------+----------+---+------------+-------------------+------------+-------------+-------------------------+\n",
      "|RegionName|CountryName|Year|Sex|AgeGroup|SuicideCount|DeathRatePer100K|Population|GDP|GDPPerCapita|GrossNationalIncome|GNIPerCapita|InflationRate|EmploymentPopulationRatio|\n",
      "+----------+-----------+----+---+--------+------------+----------------+----------+---+------------+-------------------+------------+-------------+-------------------------+\n",
      "|         0|          0|   0|  0|       0|           0|               0|         0|  0|           0|                  0|           0|            0|                        0|\n",
      "+----------+-----------+----+---+--------+------------+----------------+----------+---+------------+-------------------+------------+-------------+-------------------------+\n",
      "\n"
     ]
    },
    {
     "name": "stderr",
     "output_type": "stream",
     "text": [
      "\r",
      "                                                                                \r"
     ]
    }
   ],
   "source": [
    "null_counts = df_drop.select([sum(col(column).isNull().cast(\"int\")).alias(column) for column in df_drop.columns])\n",
    "null_counts.show()"
   ]
  },
  {
   "cell_type": "markdown",
   "id": "362cf80b",
   "metadata": {},
   "source": [
    "### Extrem value"
   ]
  },
  {
   "cell_type": "code",
   "execution_count": null,
   "id": "da41c0fa",
   "metadata": {},
   "outputs": [],
   "source": [
    "df_drop.select('GDP').describe().show()"
   ]
  },
  {
   "cell_type": "code",
   "execution_count": null,
   "id": "9079288f",
   "metadata": {},
   "outputs": [],
   "source": [
    "df_drop.filter(df_drop['GDP']<0).count()"
   ]
  },
  {
   "cell_type": "code",
   "execution_count": 9,
   "id": "e2b563e3",
   "metadata": {},
   "outputs": [
    {
     "name": "stdout",
     "output_type": "stream",
     "text": [
      "+-------+--------------------+\n",
      "|summary|                 GDP|\n",
      "+-------+--------------------+\n",
      "|  count|              115763|\n",
      "|   mean|5.278274121838045E11|\n",
      "| stddev|1.646984305618207...|\n",
      "|    min|        2.19762963E8|\n",
      "|    max|          2.33151E13|\n",
      "+-------+--------------------+\n",
      "\n"
     ]
    }
   ],
   "source": [
    "df_drop = df_drop.filter(df_drop['GDP']>=0)\n",
    "\n",
    "# check again\n",
    "df_drop.select('GDP').describe().show()"
   ]
  },
  {
   "cell_type": "markdown",
   "id": "782aa778",
   "metadata": {},
   "source": [
    "## 3.3 Constructing/Deriving a New Feature and Data Integration"
   ]
  },
  {
   "cell_type": "code",
   "execution_count": 10,
   "id": "3082936c",
   "metadata": {},
   "outputs": [
    {
     "name": "stderr",
     "output_type": "stream",
     "text": [
      "[Stage 18:=============================>                            (1 + 1) / 2]\r"
     ]
    },
    {
     "name": "stdout",
     "output_type": "stream",
     "text": [
      "+--------------------+------+------+-----------+-----------+---------------+------------+-------------------+------------+-------------------+-------------------------+------------+------------------+\n",
      "|          RegionName|  Year|   Sex|   AgeGroup| Population|            GDP|GDPPerCapita|GrossNationalIncome|GNIPerCapita|      InflationRate|EmploymentPopulationRatio|SuicideCount|  DeathRatePer100K|\n",
      "+--------------------+------+------+-----------+-----------+---------------+------------+-------------------+------------+-------------------+-------------------------+------------+------------------+\n",
      "|              Europe|2008.0|  Male|    Unknown|  2947314.0|1.2881352894E10| 4370.539716|    1.1892990139E10|      8270.0|        3.320870904|                   46.243|         0.0|17.547048197532455|\n",
      "|Central and South...|1992.0|Female|25-34 years|3.3568285E7|     2.28779E11|  6815.32933|         2.03568E11|      8540.0| 100.20486338183765|                   56.867|        36.0|        3.03592511|\n",
      "|Central and South...|1996.0|  Male| 0-14 years|3.5389362E7|      2.7215E11| 7690.157003|         2.72663E11|     10320.0|  78.09728291493973|                   51.379|        12.0|         0.7204611|\n",
      "|Central and South...|1996.0|  Male|35-54 years|3.5389362E7|      2.7215E11| 7690.157003|         2.72663E11|     10320.0| -76.51957863978141|                   51.379|       115.0|       11.16504854|\n",
      "|Central and South...|2000.0|  Male|55-74 years|3.7070774E7|     2.84204E11| 7666.517834|         2.75544E11|     11240.0|-142.11466098207785|                    52.96|       166.0|       22.59613225|\n",
      "|Central and South...|2003.0|Female|15-24 years|3.8278164E7|     1.27587E11| 3333.152904|         1.39193E11|     10530.0| -256.0160766564039|                   51.697|        75.0|        4.63794931|\n",
      "|Central and South...|2004.0|  Male|55-74 years|3.8668796E7|     1.64658E11| 4258.160261|         1.29809E11|     10810.0|-172.25739764012133|                   53.566|       134.0|       16.40865887|\n",
      "|Central and South...|2006.0|Female|  75+ years|3.9476851E7|     2.32557E11| 5890.978002|         2.15445E11|     14410.0|  6.844362530927672|                   55.571|         7.0|        2.06723841|\n",
      "|Central and South...|2008.0|Female|35-54 years|4.0273769E7|     3.61558E11| 8977.506851|         3.07364E11|     16910.0| 239.21106466922916|                   55.692|        47.0|        3.90120165|\n",
      "|                Asia|1992.0|Female|25-34 years|  3574555.0|  1.272835453E9| 356.0822126|      1.063715604E9|      1250.0| 196.70609726012938|                   63.616|         0.0|               0.0|\n",
      "+--------------------+------+------+-----------+-----------+---------------+------------+-------------------+------------+-------------------+-------------------------+------------+------------------+\n",
      "only showing top 10 rows\n",
      "\n"
     ]
    },
    {
     "name": "stderr",
     "output_type": "stream",
     "text": [
      "\r",
      "                                                                                \r"
     ]
    }
   ],
   "source": [
    "aggregated_df = df_drop.groupBy(\"RegionName\", \"Year\", \"Sex\", \"AgeGroup\", \"Population\", \n",
    "                           \"GDP\", \"GDPPerCapita\", \"GrossNationalIncome\", \"GNIPerCapita\", \n",
    "                           \"InflationRate\", \"EmploymentPopulationRatio\").agg(\n",
    "    sum(\"SuicideCount\").alias(\"SuicideCount\"),\n",
    "    avg(\"DeathRatePer100K\").alias(\"DeathRatePer100K\")\n",
    ")\n",
    "aggregated_df.show(10)"
   ]
  },
  {
   "cell_type": "code",
   "execution_count": null,
   "id": "2bf95a14",
   "metadata": {},
   "outputs": [],
   "source": [
    "print('Index:',aggregated_df.count())\n",
    "null_counts = aggregated_df.select([sum(col(column).isNull().cast(\"int\")).alias(column) for column in aggregated_df.columns])\n",
    "null_counts.show()"
   ]
  },
  {
   "cell_type": "markdown",
   "id": "4dfae9ab",
   "metadata": {},
   "source": [
    "## 3.4.Data Integration"
   ]
  },
  {
   "cell_type": "code",
   "execution_count": 11,
   "id": "19e20728",
   "metadata": {},
   "outputs": [],
   "source": [
    "df1, df2 = aggregated_df.randomSplit([0.5, 0.5])"
   ]
  },
  {
   "cell_type": "code",
   "execution_count": null,
   "id": "c452d4d2",
   "metadata": {},
   "outputs": [],
   "source": [
    "print('Index of df1:',df1.count())\n",
    "print('Data columns of df1:',len(df1.columns))\n",
    "\n",
    "print('Index of df2:',df2.count())\n",
    "print('Data columns of df2:',len(df2.columns))"
   ]
  },
  {
   "cell_type": "code",
   "execution_count": 12,
   "id": "1b6a4a3a",
   "metadata": {},
   "outputs": [
    {
     "name": "stderr",
     "output_type": "stream",
     "text": [
      "                                                                                \r"
     ]
    },
    {
     "name": "stdout",
     "output_type": "stream",
     "text": [
      "+-------+----------+------------------+-------+----------+-------------------+--------------------+------------------+--------------------+-------------------+------------------+-------------------------+------------------+------------------+\n",
      "|summary|RegionName|              Year|    Sex|  AgeGroup|         Population|                 GDP|      GDPPerCapita| GrossNationalIncome|       GNIPerCapita|     InflationRate|EmploymentPopulationRatio|      SuicideCount|  DeathRatePer100K|\n",
      "+-------+----------+------------------+-------+----------+-------------------+--------------------+------------------+--------------------+-------------------+------------------+-------------------------+------------------+------------------+\n",
      "|  count|     53740|             53740|  53740|     53740|              53740|               53740|             53740|               53740|              53740|             53740|                    53740|             53740|             53740|\n",
      "|   mean|      null|2004.9118533680685|   null|      null|2.181179645217715E7|4.940570700026944...|15723.808721906178|4.298275324054484E11| 20761.227380604185|20.962928375631122|        55.24765459539154|138.69309639002606|12.181805565422708|\n",
      "| stddev|      null|  8.94579828593723|   null|      null|3.986662751302587E7|1.484067177079735...|18052.978975899056|1.558266188017218...| 18063.446938555568| 159.7408559676223|        8.340303892794276| 669.4303252530646|20.558478852699725|\n",
      "|    min|    Africa|            1990.0| Female|0-14 years|            40542.0|        2.19762963E8|-46689.77927736243|-6.68993246108984...|-53294.203049924516|-551.0799450873021|         27.8732822008087|               0.0|-65.55742449736132|\n",
      "|    max|   Oceania|            2022.0|Unknown|   Unknown|       3.32031554E8|          2.33151E13|       133711.7944|          2.37053E13|           152630.0|       4734.914347|                   87.518|           22338.0|       502.5125628|\n",
      "+-------+----------+------------------+-------+----------+-------------------+--------------------+------------------+--------------------+-------------------+------------------+-------------------------+------------------+------------------+\n",
      "\n"
     ]
    },
    {
     "name": "stderr",
     "output_type": "stream",
     "text": [
      "[Stage 29:=============================>                            (2 + 2) / 4]\r"
     ]
    },
    {
     "name": "stdout",
     "output_type": "stream",
     "text": [
      "+----------+----+---+--------+----------+---+------------+-------------------+------------+-------------+-------------------------+------------+----------------+\n",
      "|RegionName|Year|Sex|AgeGroup|Population|GDP|GDPPerCapita|GrossNationalIncome|GNIPerCapita|InflationRate|EmploymentPopulationRatio|SuicideCount|DeathRatePer100K|\n",
      "+----------+----+---+--------+----------+---+------------+-------------------+------------+-------------+-------------------------+------------+----------------+\n",
      "|         0|   0|  0|       0|         0|  0|           0|                  0|           0|            0|                        0|           0|               0|\n",
      "+----------+----+---+--------+----------+---+------------+-------------------+------------+-------------+-------------------------+------------+----------------+\n",
      "\n"
     ]
    },
    {
     "name": "stderr",
     "output_type": "stream",
     "text": [
      "\r",
      "[Stage 29:===========================================>              (3 + 1) / 4]\r",
      "\r",
      "                                                                                \r"
     ]
    }
   ],
   "source": [
    "merged_df = df1.union(df2)\n",
    "\n",
    "merged_df.describe().show()\n",
    "\n",
    "null_counts = merged_df.select([sum(col(column).isNull().cast(\"int\")).alias(column) for column in merged_df.columns])\n",
    "null_counts.show()"
   ]
  },
  {
   "cell_type": "code",
   "execution_count": null,
   "id": "85697f7d",
   "metadata": {},
   "outputs": [],
   "source": [
    "merged_df.show(10)"
   ]
  },
  {
   "cell_type": "code",
   "execution_count": null,
   "id": "0ab84604",
   "metadata": {},
   "outputs": [],
   "source": [
    "merged_df.printSchema()\n",
    "\n",
    "merged_df = merged_df.withColumn(\"SuicideCount\", col(\"SuicideCount\").cast(\"int\"))\n",
    "# after modify\n",
    "merged_df.printSchema()"
   ]
  },
  {
   "cell_type": "code",
   "execution_count": null,
   "id": "485a04de",
   "metadata": {},
   "outputs": [],
   "source": [
    "merged_df.groupBy(\"Sex\").count().show()"
   ]
  },
  {
   "cell_type": "code",
   "execution_count": 13,
   "id": "642b37ee",
   "metadata": {},
   "outputs": [
    {
     "name": "stderr",
     "output_type": "stream",
     "text": [
      "                                                                                \r"
     ]
    }
   ],
   "source": [
    "df_with_id = merged_df.withColumn(\"ID\", monotonically_increasing_id())\n",
    "\n",
    "unknown_count = df_with_id.filter(df_with_id[\"Sex\"] == \"Unknown\").count()\n",
    "\n",
    "window_spec = Window.orderBy(\"ID\")\n",
    "df_with_index = df_with_id.withColumn(\"index\", row_number().over(window_spec))\n",
    "\n",
    "half_count = unknown_count // 2\n",
    "merged_df = df_with_index.withColumn(\n",
    "    \"Sex\",\n",
    "    when(\n",
    "        (col(\"Sex\") == \"Unknown\") & (col(\"index\") <= half_count),\n",
    "        \"Male\"\n",
    "    ).when(\n",
    "        (col(\"Sex\") == \"Unknown\") & (col(\"index\") > half_count),\n",
    "        \"Female\"\n",
    "    ).otherwise(col(\"Sex\"))\n",
    ").drop(\"ID\").drop(\"index\")\n"
   ]
  },
  {
   "cell_type": "code",
   "execution_count": null,
   "id": "40192867",
   "metadata": {},
   "outputs": [],
   "source": [
    "merged_df.groupBy(\"Sex\").count().show()"
   ]
  },
  {
   "cell_type": "code",
   "execution_count": null,
   "id": "14e8273e",
   "metadata": {},
   "outputs": [],
   "source": [
    "merged_df.printSchema()"
   ]
  },
  {
   "cell_type": "code",
   "execution_count": 29,
   "id": "d0748c4c",
   "metadata": {},
   "outputs": [],
   "source": [
    "#####################################################################################################################################\n"
   ]
  },
  {
   "cell_type": "code",
   "execution_count": null,
   "id": "227ca645",
   "metadata": {},
   "outputs": [],
   "source": []
  },
  {
   "cell_type": "code",
   "execution_count": null,
   "id": "9b4cc62f",
   "metadata": {},
   "outputs": [],
   "source": []
  },
  {
   "cell_type": "markdown",
   "id": "1e839ba8",
   "metadata": {},
   "source": [
    "# 4. Data Transformation\n"
   ]
  },
  {
   "cell_type": "code",
   "execution_count": 14,
   "id": "3a218c6a",
   "metadata": {},
   "outputs": [],
   "source": [
    "from pyspark.sql.functions import log1p\n",
    "import seaborn as sns\n",
    "import pandas as pd"
   ]
  },
  {
   "cell_type": "code",
   "execution_count": null,
   "id": "65104651",
   "metadata": {},
   "outputs": [],
   "source": [
    "# calculate SuicideCount correlation\n",
    "colum = ['Year', 'Population', \n",
    "    'GDP', 'GDPPerCapita', 'GrossNationalIncome', 'GNIPerCapita', \n",
    "    'InflationRate', 'EmploymentPopulationRatio']\n",
    "\n",
    "target_column = 'SuicideCount'\n",
    "correlations = {column: merged_df.stat.corr(column, target_column) for column in colum}\n",
    "\n",
    "\n",
    "sorted_correlations = pd.Series(correlations).sort_values(ascending=False)\n",
    "\n",
    "# result\n",
    "print(sorted_correlations)"
   ]
  },
  {
   "cell_type": "markdown",
   "id": "9d487ec6",
   "metadata": {},
   "source": [
    "## 4.2 Data Projection"
   ]
  },
  {
   "cell_type": "code",
   "execution_count": null,
   "id": "81ae836b",
   "metadata": {},
   "outputs": [],
   "source": [
    "population_data = merged_df.select(\"Population\").rdd.flatMap(lambda x: x).collect()\n",
    "\n",
    "# Population hist plot\n",
    "sns.histplot(population_data, bins=10, kde=True, color='green')\n",
    "plt.xlabel('Population')"
   ]
  },
  {
   "cell_type": "code",
   "execution_count": null,
   "id": "7464ce43",
   "metadata": {},
   "outputs": [],
   "source": [
    "sns.histplot(merged_df.select(\"GDP\").rdd.flatMap(lambda x: x).collect(), bins=10, kde=True, color='green')\n",
    "plt.xlabel('GDP')"
   ]
  },
  {
   "cell_type": "code",
   "execution_count": null,
   "id": "dd51e20e",
   "metadata": {},
   "outputs": [],
   "source": [
    "sns.histplot(merged_df.select(\"SuicideCount\").rdd.flatMap(lambda x: x).collect(), bins=10, kde=True, color='green')\n",
    "plt.xlabel('SuicideCount')"
   ]
  },
  {
   "cell_type": "code",
   "execution_count": null,
   "id": "4a2a8509",
   "metadata": {},
   "outputs": [],
   "source": [
    "sns.histplot(merged_df.select(\"GNIPerCapita\").rdd.flatMap(lambda x: x).collect(), bins=10, kde=True, color='green')\n",
    "plt.xlabel('GNIPerCapita')"
   ]
  },
  {
   "cell_type": "code",
   "execution_count": null,
   "id": "70dcfc8c",
   "metadata": {},
   "outputs": [],
   "source": [
    "sns.histplot(merged_df.select(\"GrossNationalIncome\").rdd.flatMap(lambda x: x).collect(), bins=10, kde=True, color='green')\n",
    "plt.xlabel('GrossNationalIncome')"
   ]
  },
  {
   "cell_type": "code",
   "execution_count": null,
   "id": "93855c98",
   "metadata": {},
   "outputs": [],
   "source": [
    "sns.histplot(merged_df.select(\"EmploymentPopulationRatio\").rdd.flatMap(lambda x: x).collect(), bins=10, kde=True, color='green')\n",
    "plt.xlabel('EmploymentPopulationRatio')"
   ]
  },
  {
   "cell_type": "code",
   "execution_count": null,
   "id": "01ead40f",
   "metadata": {},
   "outputs": [],
   "source": [
    "sns.histplot(merged_df.select(\"DeathRatePer100K\").rdd.flatMap(lambda x: x).collect(), bins=10, kde=True, color='green')\n",
    "plt.xlabel('DeathRatePer100K')"
   ]
  },
  {
   "cell_type": "code",
   "execution_count": null,
   "id": "9d27f881",
   "metadata": {},
   "outputs": [],
   "source": [
    "sns.histplot(merged_df.select(\"GDPPerCapita\").rdd.flatMap(lambda x: x).collect(), bins=10, kde=True, color='green')\n",
    "plt.xlabel('GDPPerCapita')"
   ]
  },
  {
   "cell_type": "code",
   "execution_count": null,
   "id": "6c121bf2",
   "metadata": {},
   "outputs": [],
   "source": [
    "sns.histplot(merged_df.select(\"InflationRate\").rdd.flatMap(lambda x: x).collect(), bins=10, kde=True, color='green')\n",
    "plt.xlabel('InflationRate')"
   ]
  },
  {
   "cell_type": "code",
   "execution_count": 15,
   "id": "f8f02dba",
   "metadata": {},
   "outputs": [],
   "source": [
    "columns_to_transform = ['Population', 'SuicideCount', 'GDP', 'DeathRatePer100K',\n",
    "                        'GrossNationalIncome', 'GNIPerCapita', 'EmploymentPopulationRatio', 'GDPPerCapita','InflationRate']\n",
    "\n",
    "for column in columns_to_transform:\n",
    "    merged_df = merged_df.withColumn(column, log1p(col(column)))\n",
    "\n"
   ]
  },
  {
   "cell_type": "code",
   "execution_count": null,
   "id": "be9dec4a",
   "metadata": {},
   "outputs": [],
   "source": [
    "for column in columns_to_transform:\n",
    "    plt.figure()\n",
    "    column_data = merged_df.select(column).rdd.flatMap(lambda x: x).collect()\n",
    "    # plot histogram\n",
    "    sns.histplot(column_data, bins=10, kde=True, color='green')\n",
    "    plt.title(f'Histogram of {column}')\n",
    "    plt.xlabel(f'log_{column}')\n",
    "    plt.show()"
   ]
  },
  {
   "cell_type": "code",
   "execution_count": null,
   "id": "ee95dbf5",
   "metadata": {},
   "outputs": [],
   "source": [
    "merged_df.printSchema()"
   ]
  },
  {
   "cell_type": "markdown",
   "id": "7c2d46e9",
   "metadata": {},
   "source": [
    "# 6.Data-Mining Algorithm(s) Selection\n",
    "## 6.3. Build/Select Model with Algorithm/Model Parameter(s)"
   ]
  },
  {
   "cell_type": "code",
   "execution_count": 28,
   "id": "9a5665bd",
   "metadata": {},
   "outputs": [],
   "source": [
    "from pyspark.ml.linalg import Vectors\n",
    "from pyspark.ml.feature import VectorAssembler\n",
    "from pyspark.ml.feature import StringIndexer\n",
    "from pyspark.ml.feature import StringIndexer, OneHotEncoder\n",
    "from pyspark.ml import Pipeline"
   ]
  },
  {
   "cell_type": "code",
   "execution_count": 26,
   "id": "634719e3",
   "metadata": {},
   "outputs": [
    {
     "name": "stderr",
     "output_type": "stream",
     "text": [
      "24/05/22 13:47:06 WARN WindowExec: No Partition Defined for Window operation! Moving all data to a single partition, this can cause serious performance degradation.\n",
      "24/05/22 13:47:08 WARN WindowExec: No Partition Defined for Window operation! Moving all data to a single partition, this can cause serious performance degradation.\n",
      "24/05/22 13:47:08 WARN WindowExec: No Partition Defined for Window operation! Moving all data to a single partition, this can cause serious performance degradation.\n",
      "24/05/22 13:47:09 WARN WindowExec: No Partition Defined for Window operation! Moving all data to a single partition, this can cause serious performance degradation.\n"
     ]
    },
    {
     "name": "stdout",
     "output_type": "stream",
     "text": [
      "+----------+----+---+--------+----------+---+------------+-------------------+------------+-------------+-------------------------+------------+----------------+\n",
      "|RegionName|Year|Sex|AgeGroup|Population|GDP|GDPPerCapita|GrossNationalIncome|GNIPerCapita|InflationRate|EmploymentPopulationRatio|SuicideCount|DeathRatePer100K|\n",
      "+----------+----+---+--------+----------+---+------------+-------------------+------------+-------------+-------------------------+------------+----------------+\n",
      "|         0|   0|  0|       0|         0|  0|           0|                  0|           0|            0|                        0|           0|               0|\n",
      "+----------+----+---+--------+----------+---+------------+-------------------+------------+-------------+-------------------------+------------+----------------+\n",
      "\n"
     ]
    },
    {
     "name": "stderr",
     "output_type": "stream",
     "text": [
      "\r",
      "                                                                                \r"
     ]
    }
   ],
   "source": [
    "null_counts = merged_df.select([sum(col(column).isNull().cast(\"int\")).alias(column) for column in merged_df.columns])\n",
    "null_counts.show()\n"
   ]
  },
  {
   "cell_type": "code",
   "execution_count": 24,
   "id": "6c43b7e9",
   "metadata": {},
   "outputs": [],
   "source": [
    "merged_df = merged_df.na.drop()\n",
    "null_counts = merged_df.select([sum(col(column).isNull().cast(\"int\")).alias(column) for column in merged_df.columns])\n",
    "null_counts.show()"
   ]
  },
  {
   "cell_type": "code",
   "execution_count": 25,
   "id": "458c68d1",
   "metadata": {},
   "outputs": [
    {
     "name": "stderr",
     "output_type": "stream",
     "text": [
      "24/05/22 13:46:57 WARN WindowExec: No Partition Defined for Window operation! Moving all data to a single partition, this can cause serious performance degradation.\n",
      "24/05/22 13:46:58 WARN WindowExec: No Partition Defined for Window operation! Moving all data to a single partition, this can cause serious performance degradation.\n",
      "24/05/22 13:46:58 WARN WindowExec: No Partition Defined for Window operation! Moving all data to a single partition, this can cause serious performance degradation.\n",
      "24/05/22 13:46:59 WARN WindowExec: No Partition Defined for Window operation! Moving all data to a single partition, this can cause serious performance degradation.\n",
      "                                                                                \r"
     ]
    },
    {
     "data": {
      "text/plain": [
       "42580"
      ]
     },
     "execution_count": 25,
     "metadata": {},
     "output_type": "execute_result"
    }
   ],
   "source": []
  },
  {
   "cell_type": "code",
   "execution_count": 30,
   "id": "89e302e5",
   "metadata": {},
   "outputs": [
    {
     "name": "stderr",
     "output_type": "stream",
     "text": [
      "24/05/22 13:48:13 WARN WindowExec: No Partition Defined for Window operation! Moving all data to a single partition, this can cause serious performance degradation.\n",
      "24/05/22 13:48:15 WARN WindowExec: No Partition Defined for Window operation! Moving all data to a single partition, this can cause serious performance degradation.\n",
      "24/05/22 13:48:15 WARN WindowExec: No Partition Defined for Window operation! Moving all data to a single partition, this can cause serious performance degradation.\n",
      "24/05/22 13:48:16 WARN WindowExec: No Partition Defined for Window operation! Moving all data to a single partition, this can cause serious performance degradation.\n",
      "24/05/22 13:48:17 WARN WindowExec: No Partition Defined for Window operation! Moving all data to a single partition, this can cause serious performance degradation.\n",
      "24/05/22 13:48:18 WARN WindowExec: No Partition Defined for Window operation! Moving all data to a single partition, this can cause serious performance degradation.\n",
      "24/05/22 13:48:19 WARN WindowExec: No Partition Defined for Window operation! Moving all data to a single partition, this can cause serious performance degradation.\n",
      "24/05/22 13:48:20 WARN WindowExec: No Partition Defined for Window operation! Moving all data to a single partition, this can cause serious performance degradation.\n",
      "24/05/22 13:48:21 WARN WindowExec: No Partition Defined for Window operation! Moving all data to a single partition, this can cause serious performance degradation.\n",
      "24/05/22 13:48:21 WARN WindowExec: No Partition Defined for Window operation! Moving all data to a single partition, this can cause serious performance degradation.\n",
      "24/05/22 13:48:22 WARN WindowExec: No Partition Defined for Window operation! Moving all data to a single partition, this can cause serious performance degradation.\n",
      "                                                                                \r"
     ]
    }
   ],
   "source": [
    "string_columns = ['RegionName', 'Sex', 'AgeGroup']\n",
    "indexers = [StringIndexer(inputCol=col, outputCol=f\"{col}_indexed\") for col in string_columns]\n",
    "\n",
    "feature_columns = ['Year', 'Population', 'GDP', 'GDPPerCapita', 'GrossNationalIncome', \n",
    "                   'GNIPerCapita', 'InflationRate', 'EmploymentPopulationRatio'] + \\\n",
    "                   [f\"{col}_indexed\" for col in string_columns]\n",
    "assembler = VectorAssembler(inputCols=feature_columns, outputCol=\"features\")\n",
    "\n",
    "# use Pipeline\n",
    "pipeline = Pipeline(stages=indexers + [assembler])\n",
    "df_prepared = pipeline.fit(merged_df).transform(merged_df)"
   ]
  },
  {
   "cell_type": "code",
   "execution_count": null,
   "id": "dde7a5f2",
   "metadata": {},
   "outputs": [],
   "source": []
  },
  {
   "cell_type": "code",
   "execution_count": null,
   "id": "57ef250e",
   "metadata": {},
   "outputs": [],
   "source": []
  },
  {
   "cell_type": "code",
   "execution_count": 31,
   "id": "5dc03e58",
   "metadata": {},
   "outputs": [],
   "source": [
    "train_df, test_df = df_prepared.randomSplit([0.7, 0.3], seed=42)"
   ]
  },
  {
   "cell_type": "code",
   "execution_count": 32,
   "id": "ae8ae7fe",
   "metadata": {},
   "outputs": [],
   "source": [
    "from pyspark.ml.regression import RandomForestRegressor"
   ]
  },
  {
   "cell_type": "code",
   "execution_count": 33,
   "id": "b8347606",
   "metadata": {},
   "outputs": [
    {
     "name": "stderr",
     "output_type": "stream",
     "text": [
      "24/05/22 13:48:36 WARN WindowExec: No Partition Defined for Window operation! Moving all data to a single partition, this can cause serious performance degradation.\n",
      "24/05/22 13:48:36 WARN WindowExec: No Partition Defined for Window operation! Moving all data to a single partition, this can cause serious performance degradation.\n",
      "24/05/22 13:48:37 WARN WindowExec: No Partition Defined for Window operation! Moving all data to a single partition, this can cause serious performance degradation.\n",
      "24/05/22 13:48:37 WARN WindowExec: No Partition Defined for Window operation! Moving all data to a single partition, this can cause serious performance degradation.\n",
      "24/05/22 13:48:37 WARN WindowExec: No Partition Defined for Window operation! Moving all data to a single partition, this can cause serious performance degradation.\n",
      "                                                                                \r"
     ]
    }
   ],
   "source": [
    "rf = RandomForestRegressor(labelCol=\"SuicideCount\", featuresCol=\"features\", numTrees=100)\n",
    "\n",
    "# training model\n",
    "rf_model = rf.fit(train_df)\n"
   ]
  },
  {
   "cell_type": "code",
   "execution_count": 35,
   "id": "dc8bc53f",
   "metadata": {},
   "outputs": [
    {
     "name": "stderr",
     "output_type": "stream",
     "text": [
      "24/05/22 13:54:25 WARN WindowExec: No Partition Defined for Window operation! Moving all data to a single partition, this can cause serious performance degradation.\n",
      "24/05/22 13:54:25 WARN WindowExec: No Partition Defined for Window operation! Moving all data to a single partition, this can cause serious performance degradation.\n",
      "24/05/22 13:54:27 WARN WindowExec: No Partition Defined for Window operation! Moving all data to a single partition, this can cause serious performance degradation.\n",
      "24/05/22 13:54:27 WARN WindowExec: No Partition Defined for Window operation! Moving all data to a single partition, this can cause serious performance degradation.\n",
      "24/05/22 13:54:27 WARN WindowExec: No Partition Defined for Window operation! Moving all data to a single partition, this can cause serious performance degradation.\n",
      "24/05/22 13:54:29 WARN WindowExec: No Partition Defined for Window operation! Moving all data to a single partition, this can cause serious performance degradation.\n",
      "24/05/22 13:54:29 WARN WindowExec: No Partition Defined for Window operation! Moving all data to a single partition, this can cause serious performance degradation.\n",
      "24/05/22 13:54:30 WARN WindowExec: No Partition Defined for Window operation! Moving all data to a single partition, this can cause serious performance degradation.\n",
      "24/05/22 13:54:30 WARN WindowExec: No Partition Defined for Window operation! Moving all data to a single partition, this can cause serious performance degradation.\n",
      "24/05/22 13:54:30 WARN WindowExec: No Partition Defined for Window operation! Moving all data to a single partition, this can cause serious performance degradation.\n",
      "[Stage 149:>                                                        (0 + 1) / 1]\r"
     ]
    },
    {
     "name": "stdout",
     "output_type": "stream",
     "text": [
      "Root Mean Squared Error (RMSE) on test data = 1.1831729125669672\n",
      "R-squared on test data = 0.7306460709610217\n"
     ]
    },
    {
     "name": "stderr",
     "output_type": "stream",
     "text": [
      "\r",
      "                                                                                \r"
     ]
    }
   ],
   "source": [
    "from pyspark.ml.evaluation import RegressionEvaluator\n",
    "\n",
    "# predict on test set\n",
    "predictions = rf_model.transform(test_df)\n",
    "\n",
    "# evaluate\n",
    "evaluator = RegressionEvaluator(labelCol=\"SuicideCount\", predictionCol=\"prediction\", metricName=\"rmse\")\n",
    "rmse = evaluator.evaluate(predictions)\n",
    "evaluator_r2 = RegressionEvaluator(labelCol=\"SuicideCount\", predictionCol=\"prediction\", metricName=\"r2\")\n",
    "r2 = evaluator_r2.evaluate(predictions)\n",
    "print(f\"Root Mean Squared Error (RMSE) on test data = {rmse}\")\n",
    "print(f\"R-squared on test data = {r2}\")"
   ]
  }
 ],
 "metadata": {
  "kernelspec": {
   "display_name": "Python 3 (ipykernel)",
   "language": "python",
   "name": "python3"
  },
  "language_info": {
   "codemirror_mode": {
    "name": "ipython",
    "version": 3
   },
   "file_extension": ".py",
   "mimetype": "text/x-python",
   "name": "python",
   "nbconvert_exporter": "python",
   "pygments_lexer": "ipython3",
   "version": "3.10.4"
  }
 },
 "nbformat": 4,
 "nbformat_minor": 5
}
